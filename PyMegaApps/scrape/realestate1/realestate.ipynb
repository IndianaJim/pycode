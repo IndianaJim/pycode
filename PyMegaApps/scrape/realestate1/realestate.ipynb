{
 "metadata": {
  "language_info": {
   "codemirror_mode": {
    "name": "ipython",
    "version": 3
   },
   "file_extension": ".py",
   "mimetype": "text/x-python",
   "name": "python",
   "nbconvert_exporter": "python",
   "pygments_lexer": "ipython3",
   "version": "3.8.1"
  },
  "orig_nbformat": 4,
  "kernelspec": {
   "name": "python3",
   "display_name": "Python 3.8.1 64-bit ('venv': venv)"
  },
  "interpreter": {
   "hash": "45e2c4e5dfc159d342ce7dba2130c7b213f9862d90bf377a920f00941f0ce223"
  }
 },
 "nbformat": 4,
 "nbformat_minor": 2,
 "cells": [
  {
   "cell_type": "code",
   "execution_count": 49,
   "metadata": {},
   "outputs": [],
   "source": [
    "import requests\n",
    "from bs4 import BeautifulSoup\n",
    "r = requests.get(\"https://pythonizing.github.io/data/real-estate/rock-springs-wy/LCWYROCKSPRINGS/\", headers={'User-agent': 'Mozilla/5.0 (X11; Ubuntu; Linux x86_64; rv:61.0) Gecko/20100101 Firefox/61.0'})\n",
    "c=r.content\n",
    "soup = BeautifulSoup(c,\"html.parser\")\n",
    "all=soup.find_all(\"div\",{\"class\":\"propertyRow\"})\n",
    "#all[2].find(\"h4\",{\"class\":\"propPrice\"}).text.replace(\"\\n\",\"\").replace(\" \",\"\")"
   ]
  },
  {
   "cell_type": "code",
   "execution_count": 59,
   "metadata": {},
   "outputs": [],
   "source": [
    "l = []\n",
    "for prop in all:\n",
    "    d={}\n",
    "    d[price] = prop.find(\"h4\",{\"class\":\"propPrice\"}).text.replace(\"\\n\",\"\").replace(\" \",\"\")\n",
    "    d[mls] = prop.find(\"div\",{\"class\":\"propertyMLS\"}).text.replace(\"\\n\",\"\").replace(\" \",\"\")\n",
    "    addr1 = (prop.find_all(\"span\",{\"class\":\"propAddressCollapse\"}))[0].text\n",
    "    #print(addr1)\n",
    "    #d[street] = \"street\"\n",
    "    #d[addr2] = addr[1].text\n",
    "    try:\n",
    "        d[beds] = prop.find(\"span\",{\"class\":\"infoBed\"}).find(\"b\").text\n",
    "    except:\n",
    "        d[beds] = '0'\n",
    "    try:\n",
    "        d[baths] = prop.find(\"span\",{\"class\":\"infoValueFullBath\"}).find(\"b\").text\n",
    "    except:\n",
    "        d[baths] = '0'\n",
    "     \n",
    "    #print(baths)\n",
    "    #print(price + \"\\n\" + beds + \" beds\" + \"\\n\" + baths + \" baths\" + \"\\n\" + mls + \"\\n\" + addr[0].text + \"\\n\" + addr[1].text + \"\\n\")\n",
    "    l.append(d)"
   ]
  },
  {
   "cell_type": "code",
   "execution_count": 60,
   "metadata": {},
   "outputs": [
    {
     "output_type": "execute_result",
     "data": {
      "text/plain": [
       "[{'$196,900': '$725,000', 'MLS#20156365': 'MLS#20156419', '3': '0', '2': '0'},\n",
       " {'$196,900': '$452,900', 'MLS#20156365': 'MLS#20152130', '3': '4', '2': '4'},\n",
       " {'$196,900': '$396,900', 'MLS#20156365': 'MLS#20156389', '3': '5', '2': '3'},\n",
       " {'$196,900': '$389,900', 'MLS#20156365': 'MLS#20160119', '3': '4', '2': '3'},\n",
       " {'$196,900': '$254,000', 'MLS#20156365': 'MLS#20155008', '3': '3', '2': '3'},\n",
       " {'$196,900': '$252,900', 'MLS#20156365': 'MLS#20160028', '3': '4', '2': '2'},\n",
       " {'$196,900': '$210,000', 'MLS#20156365': 'MLS#20156320', '3': '4', '2': '3'},\n",
       " {'$196,900': '$209,000', 'MLS#20156365': 'MLS#20155756', '3': '3', '2': '2'},\n",
       " {'$196,900': '$199,900', 'MLS#20156365': 'MLS#20156880', '3': '3', '2': '2'},\n",
       " {'$196,900': '$196,900', 'MLS#20156365': 'MLS#20156365', '3': '3', '2': '2'}]"
      ]
     },
     "metadata": {},
     "execution_count": 60
    }
   ],
   "source": [
    "l"
   ]
  },
  {
   "cell_type": "code",
   "execution_count": null,
   "metadata": {},
   "outputs": [],
   "source": []
  }
 ]
}