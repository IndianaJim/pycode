{
 "metadata": {
  "language_info": {
   "codemirror_mode": {
    "name": "ipython",
    "version": 3
   },
   "file_extension": ".py",
   "mimetype": "text/x-python",
   "name": "python",
   "nbconvert_exporter": "python",
   "pygments_lexer": "ipython3",
   "version": "3.8.1"
  },
  "orig_nbformat": 4,
  "kernelspec": {
   "name": "python3",
   "display_name": "Python 3.8.1 64-bit ('venv': venv)"
  },
  "interpreter": {
   "hash": "45e2c4e5dfc159d342ce7dba2130c7b213f9862d90bf377a920f00941f0ce223"
  }
 },
 "nbformat": 4,
 "nbformat_minor": 2,
 "cells": [
  {
   "cell_type": "code",
   "execution_count": null,
   "metadata": {},
   "outputs": [],
   "source": [
    "import requests\n",
    "from bs4 import BeautifulSoup\n",
    "r = requests.get(\"https://pythonizing.github.io/data/real-estate/rock-springs-wy/LCWYROCKSPRINGS/\", headers={'User-agent': 'Mozilla/5.0 (X11; Ubuntu; Linux x86_64; rv:61.0) Gecko/20100101 Firefox/61.0'})\n",
    "c=r.content\n",
    "soup = BeautifulSoup(c,\"html.parser\")\n",
    "all=soup.find_all(\"div\",{\"class\":\"propertyRow\"})\n",
    "#all[2].find(\"h4\",{\"class\":\"propPrice\"}).text.replace(\"\\n\",\"\").replace(\" \",\"\")"
   ]
  },
  {
   "cell_type": "code",
   "execution_count": 29,
   "metadata": {},
   "outputs": [
    {
     "output_type": "stream",
     "name": "stdout",
     "text": [
      "$725,000\nMLS#20156419\n0 Gateway\nRock Springs, WY 82901\n$452,900\nMLS#20152130\n1003 Winchester Blvd.\nRock Springs, WY 82901\n$396,900\nMLS#20156389\n600 Talladega\nRock Springs, WY 82901\n$389,900\nMLS#20160119\n3239 Spearhead Way\nRock Springs, WY 82901\n$254,000\nMLS#20155008\n522 Emerald Street\nRock Springs, WY 82901\n$252,900\nMLS#20160028\n1302 Veteran's Drive\nRock Springs, WY 82901\n$210,000\nMLS#20156320\n1021 Cypress Cir\nRock Springs, WY 82901\n$209,000\nMLS#20155756\n913 Madison Dr\nRock Springs, WY 82901\n$199,900\nMLS#20156880\n1344 Teton Street\nRock Springs, WY 82901\n$196,900\nMLS#20156365\n4 Minnies Lane\nRock Springs, WY 82901\n"
     ]
    }
   ],
   "source": [
    "for prop in all:\n",
    "    price = prop.find(\"h4\",{\"class\":\"propPrice\"}).text.replace(\"\\n\",\"\").replace(\" \",\"\")\n",
    "    mls = prop.find(\"div\",{\"class\":\"propertyMLS\"}).text.replace(\"\\n\",\"\").replace(\" \",\"\")\n",
    "    addr = prop.find_all(\"span\",{\"class\":\"propAddressCollapse\"})\n",
    "    #print(addr[0].text + \"\\n\" + addr[1].text)\n",
    "    print(price + \"\\n\" + mls + \"\\n\" + addr[0].text + \"\\n\" + addr[1].text + \"\\n\")"
   ]
  },
  {
   "cell_type": "code",
   "execution_count": 20,
   "metadata": {},
   "outputs": [
    {
     "output_type": "execute_result",
     "data": {
      "text/plain": [
       "'MLS#20156389'"
      ]
     },
     "metadata": {},
     "execution_count": 20
    }
   ],
   "source": [
    "all[2].find(\"div\",{\"class\":\"propertyMLS\"}).text.replace(\"\\n\",\"\").replace(\" \",\"\")"
   ]
  },
  {
   "cell_type": "code",
   "execution_count": null,
   "metadata": {},
   "outputs": [],
   "source": []
  }
 ]
}