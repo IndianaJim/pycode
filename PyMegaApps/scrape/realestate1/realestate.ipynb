{
 "metadata": {
  "language_info": {
   "codemirror_mode": {
    "name": "ipython",
    "version": 3
   },
   "file_extension": ".py",
   "mimetype": "text/x-python",
   "name": "python",
   "nbconvert_exporter": "python",
   "pygments_lexer": "ipython3",
   "version": "3.8.1"
  },
  "orig_nbformat": 4,
  "kernelspec": {
   "name": "python3",
   "display_name": "Python 3.8.1 64-bit ('venv': venv)"
  },
  "interpreter": {
   "hash": "45e2c4e5dfc159d342ce7dba2130c7b213f9862d90bf377a920f00941f0ce223"
  }
 },
 "nbformat": 4,
 "nbformat_minor": 2,
 "cells": [
  {
   "cell_type": "code",
   "execution_count": null,
   "metadata": {},
   "outputs": [],
   "source": [
    "import requests\n",
    "from bs4 import BeautifulSoup\n",
    "r = requests.get(\"https://pythonizing.github.io/data/real-estate/rock-springs-wy/LCWYROCKSPRINGS/\", headers={'User-agent': 'Mozilla/5.0 (X11; Ubuntu; Linux x86_64; rv:61.0) Gecko/20100101 Firefox/61.0'})\n",
    "c=r.content\n",
    "soup = BeautifulSoup(c,\"html.parser\")\n",
    "all=soup.find_all(\"div\",{\"class\":\"propertyRow\"})\n",
    "#all[2].find(\"h4\",{\"class\":\"propPrice\"}).text.replace(\"\\n\",\"\").replace(\" \",\"\")\n",
    "#print(all[0].find(\"h4\",{\"class\":\"propPrice\"}).text.replace(\"\\n\",\"\").replace(\" \",\"\"))"
   ]
  },
  {
   "cell_type": "code",
   "execution_count": null,
   "metadata": {},
   "outputs": [],
   "source": [
    "l = []\n",
    "base_url=\"https://pythonizing.github.io/data/real-estate/rock-springs-wy/LCWYROCKSPRINGS/t=0&s=\"\n",
    "for page in range(0,30,10):\n",
    "    url=base_url+str(page)+\".html\"\n",
    "        r = requests.get(url, headers={'User-agent': 'Mozilla/5.0 (X11; Ubuntu; Linux x86_64; rv:61.0) Gecko/20100101 Firefox/61.0'})\n",
    "        c=r.content\n",
    "        soup = BeautifulSoup(c,\"html.parser\")\n",
    "        all=soup.find_all(\"div\",{\"class\":\"propertyRow\"})\n",
    "        for prop in all:\n",
    "            d={}\n",
    "            d[\"price\"] = prop.find(\"h4\",{\"class\":\"propPrice\"}).text.replace(\"\\n\",\"\").replace(\" \",\"\")\n",
    "            d[\"mls\"] = prop.find(\"div\",{\"class\":\"propertyMLS\"}).text.replace(\"\\n\",\"\").replace(\" \",\"\")\n",
    "            addr = (prop.find_all(\"span\",{\"class\":\"propAddressCollapse\"}))\n",
    "            d[\"addr1\"] = addr[0].text\n",
    "            d[\"addr2\"] = addr[1].text\n",
    "            try:\n",
    "                d[\"beds\"] = prop.find(\"span\",{\"class\":\"infoBed\"}).find(\"b\").text\n",
    "            except:\n",
    "                d[\"beds\"] = '0'\n",
    "            try:\n",
    "                d[\"baths\"] = prop.find(\"span\",{\"class\":\"infoValueFullBath\"}).find(\"b\").text\n",
    "            except:\n",
    "                d[\"baths\"] = '0'\n",
    "            l.append(d)\n",
    "            "
   ]
  },
  {
   "cell_type": "code",
   "execution_count": null,
   "metadata": {},
   "outputs": [],
   "source": [
    "import pandas\n",
    "df=pandas.DataFrame(l)\n",
    "df.to_csv(\"output.csv\")"
   ]
  },
  {
   "cell_type": "code",
   "execution_count": null,
   "metadata": {},
   "outputs": [],
   "source": [
    "df"
   ]
  },
  {
   "cell_type": "code",
   "execution_count": null,
   "metadata": {},
   "outputs": [],
   "source": [
    "base_url=\"https://pythonizing.github.io/data/real-estate/rock-springs-wy/LCWYROCKSPRINGS/t=0&s=\"\n",
    "for page in range(0,30,10):\n",
    "    url=base_url+str(page)+\".html\"\n",
    "        r = requests.get(url, headers={'User-agent': 'Mozilla/5.0 (X11; Ubuntu; Linux x86_64; rv:61.0) Gecko/20100101 Firefox/61.0'})\n",
    "        c=r.content\n",
    "        soup = BeautifulSoup(c,\"html.parser\")\n",
    "        all=soup.find_all(\"div\",{\"class\":\"propertyRow\"})\n",
    "        "
   ]
  },
  {
   "cell_type": "code",
   "execution_count": null,
   "metadata": {},
   "outputs": [],
   "source": []
  }
 ]
}