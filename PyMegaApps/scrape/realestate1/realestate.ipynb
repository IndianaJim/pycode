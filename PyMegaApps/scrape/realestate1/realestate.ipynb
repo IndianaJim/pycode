{
 "metadata": {
  "language_info": {
   "codemirror_mode": {
    "name": "ipython",
    "version": 3
   },
   "file_extension": ".py",
   "mimetype": "text/x-python",
   "name": "python",
   "nbconvert_exporter": "python",
   "pygments_lexer": "ipython3",
   "version": "3.8.1"
  },
  "orig_nbformat": 4,
  "kernelspec": {
   "name": "python3",
   "display_name": "Python 3.8.1 64-bit ('venv': venv)"
  },
  "interpreter": {
   "hash": "45e2c4e5dfc159d342ce7dba2130c7b213f9862d90bf377a920f00941f0ce223"
  }
 },
 "nbformat": 4,
 "nbformat_minor": 2,
 "cells": [
  {
   "cell_type": "code",
   "execution_count": 7,
   "metadata": {},
   "outputs": [
    {
     "output_type": "stream",
     "name": "stdout",
     "text": [
      "$725,000\n"
     ]
    }
   ],
   "source": [
    "import requests\n",
    "from bs4 import BeautifulSoup\n",
    "r = requests.get(\"https://pythonizing.github.io/data/real-estate/rock-springs-wy/LCWYROCKSPRINGS/\", headers={'User-agent': 'Mozilla/5.0 (X11; Ubuntu; Linux x86_64; rv:61.0) Gecko/20100101 Firefox/61.0'})\n",
    "c=r.content\n",
    "soup = BeautifulSoup(c,\"html.parser\")\n",
    "all=soup.find_all(\"div\",{\"class\":\"propertyRow\"})\n",
    "#all[2].find(\"h4\",{\"class\":\"propPrice\"}).text.replace(\"\\n\",\"\").replace(\" \",\"\")\n",
    "#print(all[0].find(\"h4\",{\"class\":\"propPrice\"}).text.replace(\"\\n\",\"\").replace(\" \",\"\"))"
   ]
  },
  {
   "cell_type": "code",
   "execution_count": 8,
   "metadata": {},
   "outputs": [],
   "source": [
    "l = []\n",
    "for prop in all:\n",
    "    d={}\n",
    "    d[\"price\"] = prop.find(\"h4\",{\"class\":\"propPrice\"}).text.replace(\"\\n\",\"\").replace(\" \",\"\")\n",
    "    d[\"mls\"] = prop.find(\"div\",{\"class\":\"propertyMLS\"}).text.replace(\"\\n\",\"\").replace(\" \",\"\")\n",
    "    addr = (prop.find_all(\"span\",{\"class\":\"propAddressCollapse\"}))\n",
    "    d[\"addr1\"] = addr[0].text\n",
    "    d[\"addr2\"] = addr[1].text\n",
    "    try:\n",
    "        d[\"beds\"] = prop.find(\"span\",{\"class\":\"infoBed\"}).find(\"b\").text\n",
    "    except:\n",
    "        d[\"beds\"] = '0'\n",
    "    try:\n",
    "        d[\"baths\"] = prop.find(\"span\",{\"class\":\"infoValueFullBath\"}).find(\"b\").text\n",
    "    except:\n",
    "        d[\"baths\"] = '0'\n",
    "     \n",
    "    #print(baths)\n",
    "    #print(price + \"\\n\" + beds + \" beds\" + \"\\n\" + baths + \" baths\" + \"\\n\" + mls + \"\\n\" + addr[0].text + \"\\n\" + addr[1].text + \"\\n\")\n",
    "    l.append(d)\n",
    "    "
   ]
  },
  {
   "cell_type": "code",
   "execution_count": 9,
   "metadata": {},
   "outputs": [
    {
     "output_type": "execute_result",
     "data": {
      "text/plain": [
       "[{'price': '$725,000',\n",
       "  'mls': 'MLS#20156419',\n",
       "  'addr1': '0 Gateway',\n",
       "  'addr2': 'Rock Springs, WY 82901',\n",
       "  'beds': '0',\n",
       "  'baths': '0'},\n",
       " {'price': '$452,900',\n",
       "  'mls': 'MLS#20152130',\n",
       "  'addr1': '1003 Winchester Blvd.',\n",
       "  'addr2': 'Rock Springs, WY 82901',\n",
       "  'beds': '4',\n",
       "  'baths': '4'},\n",
       " {'price': '$396,900',\n",
       "  'mls': 'MLS#20156389',\n",
       "  'addr1': '600 Talladega',\n",
       "  'addr2': 'Rock Springs, WY 82901',\n",
       "  'beds': '5',\n",
       "  'baths': '3'},\n",
       " {'price': '$389,900',\n",
       "  'mls': 'MLS#20160119',\n",
       "  'addr1': '3239 Spearhead Way',\n",
       "  'addr2': 'Rock Springs, WY 82901',\n",
       "  'beds': '4',\n",
       "  'baths': '3'},\n",
       " {'price': '$254,000',\n",
       "  'mls': 'MLS#20155008',\n",
       "  'addr1': '522 Emerald Street',\n",
       "  'addr2': 'Rock Springs, WY 82901',\n",
       "  'beds': '3',\n",
       "  'baths': '3'},\n",
       " {'price': '$252,900',\n",
       "  'mls': 'MLS#20160028',\n",
       "  'addr1': \"1302 Veteran's Drive\",\n",
       "  'addr2': 'Rock Springs, WY 82901',\n",
       "  'beds': '4',\n",
       "  'baths': '2'},\n",
       " {'price': '$210,000',\n",
       "  'mls': 'MLS#20156320',\n",
       "  'addr1': '1021 Cypress Cir',\n",
       "  'addr2': 'Rock Springs, WY 82901',\n",
       "  'beds': '4',\n",
       "  'baths': '3'},\n",
       " {'price': '$209,000',\n",
       "  'mls': 'MLS#20155756',\n",
       "  'addr1': '913 Madison Dr',\n",
       "  'addr2': 'Rock Springs, WY 82901',\n",
       "  'beds': '3',\n",
       "  'baths': '2'},\n",
       " {'price': '$199,900',\n",
       "  'mls': 'MLS#20156880',\n",
       "  'addr1': '1344 Teton Street',\n",
       "  'addr2': 'Rock Springs, WY 82901',\n",
       "  'beds': '3',\n",
       "  'baths': '2'},\n",
       " {'price': '$196,900',\n",
       "  'mls': 'MLS#20156365',\n",
       "  'addr1': '4 Minnies Lane',\n",
       "  'addr2': 'Rock Springs, WY 82901',\n",
       "  'beds': '3',\n",
       "  'baths': '2'}]"
      ]
     },
     "metadata": {},
     "execution_count": 9
    }
   ],
   "source": [
    "l"
   ]
  },
  {
   "cell_type": "code",
   "execution_count": null,
   "metadata": {},
   "outputs": [],
   "source": []
  }
 ]
}