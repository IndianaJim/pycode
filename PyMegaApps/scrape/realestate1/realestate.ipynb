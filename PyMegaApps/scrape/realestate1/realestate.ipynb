{
 "metadata": {
  "language_info": {
   "codemirror_mode": {
    "name": "ipython",
    "version": 3
   },
   "file_extension": ".py",
   "mimetype": "text/x-python",
   "name": "python",
   "nbconvert_exporter": "python",
   "pygments_lexer": "ipython3",
   "version": "3.8.1"
  },
  "orig_nbformat": 4,
  "kernelspec": {
   "name": "python3",
   "display_name": "Python 3.8.1 64-bit ('venv': venv)"
  },
  "interpreter": {
   "hash": "45e2c4e5dfc159d342ce7dba2130c7b213f9862d90bf377a920f00941f0ce223"
  }
 },
 "nbformat": 4,
 "nbformat_minor": 2,
 "cells": [
  {
   "cell_type": "code",
   "execution_count": 28,
   "metadata": {},
   "outputs": [
    {
     "output_type": "stream",
     "name": "stdout",
     "text": [
      "10\n"
     ]
    }
   ],
   "source": [
    "import requests\n",
    "from bs4 import BeautifulSoup\n",
    "r = requests.get(\"https://pythonizing.github.io/data/real-estate/rock-springs-wy/LCWYROCKSPRINGS/\", headers={'User-agent': 'Mozilla/5.0 (X11; Ubuntu; Linux x86_64; rv:61.0) Gecko/20100101 Firefox/61.0'})\n",
    "c=r.content\n",
    "soup = BeautifulSoup(c,\"html.parser\")\n",
    "all=soup.find_all(\"div\",{\"class\":\"propertyRow\"})\n",
    "pages=soup.find_all(\"a\",{\"class\":\"Page\"})[-1].text\n",
    "#print(len(all))"
   ]
  },
  {
   "cell_type": "code",
   "execution_count": 25,
   "metadata": {},
   "outputs": [],
   "source": [
    "l = []\n",
    "base_url=\"https://pythonizing.github.io/data/real-estate/rock-springs-wy/LCWYROCKSPRINGS/t=0&s=\"\n",
    "for page in range(0,int(pages)*10,10):\n",
    "    url=base_url+str(page)+\".html\"\n",
    "    r = requests.get(url, headers={'User-agent': 'Mozilla/5.0 (X11; Ubuntu; Linux x86_64; rv:61.0) Gecko/20100101 Firefox/61.0'})\n",
    "    c=r.content\n",
    "    soup = BeautifulSoup(c,\"html.parser\")\n",
    "    all=soup.find_all(\"div\",{\"class\":\"propertyRow\"})\n",
    "    for prop in all:\n",
    "        d={}\n",
    "        d[\"price\"] = prop.find(\"h4\",{\"class\":\"propPrice\"}).text.replace(\"\\n\",\"\").replace(\" \",\"\")\n",
    "        d[\"mls\"] = prop.find(\"div\",{\"class\":\"propertyMLS\"}).text.replace(\"\\n\",\"\").replace(\" \",\"\")\n",
    "        addr = (prop.find_all(\"span\",{\"class\":\"propAddressCollapse\"}))\n",
    "        d[\"addr1\"] = addr[0].text\n",
    "        d[\"addr2\"] = addr[1].text\n",
    "        try:\n",
    "            d[\"beds\"] = prop.find(\"span\",{\"class\":\"infoBed\"}).find(\"b\").text\n",
    "        except:\n",
    "            d[\"beds\"] = '0'\n",
    "        try:\n",
    "            d[\"baths\"] = prop.find(\"span\",{\"class\":\"infoValueFullBath\"}).find(\"b\").text\n",
    "        except:\n",
    "            d[\"baths\"] = '0'\n",
    "        l.append(d)\n",
    "            "
   ]
  },
  {
   "cell_type": "code",
   "execution_count": 26,
   "metadata": {},
   "outputs": [],
   "source": [
    "import pandas\n",
    "df=pandas.DataFrame(l)\n",
    "df.to_csv(\"output.csv\")"
   ]
  },
  {
   "cell_type": "code",
   "execution_count": 27,
   "metadata": {},
   "outputs": [
    {
     "output_type": "execute_result",
     "data": {
      "text/plain": [
       "         price           mls                          addr1  \\\n",
       "0     $725,000  MLS#20156419                      0 Gateway   \n",
       "1     $452,900  MLS#20152130          1003 Winchester Blvd.   \n",
       "2     $396,900  MLS#20156389                  600 Talladega   \n",
       "3     $389,900  MLS#20160119             3239 Spearhead Way   \n",
       "4     $254,000  MLS#20155008             522 Emerald Street   \n",
       "5     $252,900  MLS#20160028           1302 Veteran's Drive   \n",
       "6     $210,000  MLS#20156320               1021 Cypress Cir   \n",
       "7     $209,000  MLS#20155756                 913 Madison Dr   \n",
       "8     $199,900  MLS#20156880              1344 Teton Street   \n",
       "9     $196,900  MLS#20156365                 4 Minnies Lane   \n",
       "10  $1,700,000     MLS#81415                  9339 Sd 26900   \n",
       "11  $1,100,000     MLS#85217               RR674P13 Hwy 377   \n",
       "12  $1,080,000     MLS#86198                       0 Hwy 41   \n",
       "13    $908,350     MLS#85642                  9339 Sd 26900   \n",
       "14    $905,000     MLS#85215                  CR450 Hwy 377   \n",
       "15    $695,000     MLS#86361                  Cr 240 Cr 240   \n",
       "16    $605,000     MLS#86312                  RR674 Hwy 377   \n",
       "17    $559,805     MLS#85713                 9770a Sd 26900   \n",
       "18    $504,000     MLS#86642                  Lot17 CR 2630   \n",
       "19    $410,000     MLS#86390                 Tr12,16 CR 520   \n",
       "20    $299,900   MLS#4857876   32575 S Shadow Mountain Road   \n",
       "21    $167,500   MLS#4773355        32750 S Shangrila Drive   \n",
       "22    $150,000   MLS#4841819      0000 Black Canyon Highway   \n",
       "23    $129,500   MLS#4686266           34775 S CHOLLA Drive   \n",
       "24    $129,000   MLS#4724003      33403 S. HA-WA-SI TERRACE   \n",
       "25     $80,000   MLS#4805622          34263 S Bertha Street   \n",
       "26     $77,900   MLS#4782047            33160 S Canyon Road   \n",
       "27     $70,500   MLS#4828193        19421 E Todd Evans Road   \n",
       "28     $70,000   MLS#4835071             18688 E AGUA Vista   \n",
       "29     $67,500   MLS#2616830  50600 N Old Black Canyon Road   \n",
       "30     $54,900   MLS#4824906      20101 E SQUAW VALLEY Road   \n",
       "31     $45,600   MLS#4722011            33259 S Canyon Road   \n",
       "32     $40,000   MLS#4657463          34558 S ROADRUNNER RD   \n",
       "33     $30,000   MLS#4781544       19260 E Scenic Loop Road   \n",
       "34     $29,000   MLS#4621064           19000 E MAREN Avenue   \n",
       "35     $28,995   MLS#4848089          19350 E SAGUARO Drive   \n",
       "36     $15,000   MLS#4749944         20650 E Amethyst Place   \n",
       "\n",
       "                          addr2 beds baths  \n",
       "0        Rock Springs, WY 82901    0     0  \n",
       "1        Rock Springs, WY 82901    4     4  \n",
       "2        Rock Springs, WY 82901    5     3  \n",
       "3        Rock Springs, WY 82901    4     3  \n",
       "4        Rock Springs, WY 82901    3     3  \n",
       "5        Rock Springs, WY 82901    4     2  \n",
       "6        Rock Springs, WY 82901    4     3  \n",
       "7        Rock Springs, WY 82901    3     2  \n",
       "8        Rock Springs, WY 82901    3     2  \n",
       "9        Rock Springs, WY 82901    3     2  \n",
       "10        Rocksprings, TX 78880    0     0  \n",
       "11        Rocksprings, TX 78880    0     0  \n",
       "12        Rocksprings, TX 78880    0     0  \n",
       "13        Rocksprings, TX 78880    0     0  \n",
       "14        Rocksprings, TX 78880    0     0  \n",
       "15        Rocksprings, TX 78880    0     0  \n",
       "16        Rocksprings, TX 78880    0     0  \n",
       "17        Rocksprings, TX 78880    0     0  \n",
       "18        Rocksprings, TX 78880    0     0  \n",
       "19        Rocksprings, TX 78880    0     0  \n",
       "20  Black Canyon City, AZ 85324    3     2  \n",
       "21  Black Canyon City, AZ 85324    3     2  \n",
       "22  Black Canyon City, AZ 85324    0     0  \n",
       "23  Black Canyon City, AZ 85324    3     2  \n",
       "24  BLACK CANYON CITY, AZ 85324    4     2  \n",
       "25  Black Canyon City, AZ 85324    5     2  \n",
       "26  Black Canyon City, AZ 85324    3     2  \n",
       "27  Black Canyon City, AZ 85324    3     2  \n",
       "28  Black Canyon City, AZ 85324    0     0  \n",
       "29  Black Canyon City, AZ 85324    0     0  \n",
       "30  Black Canyon City, AZ 85324    0     0  \n",
       "31  Black Canyon City, AZ 85324    3     1  \n",
       "32  Black Canyon City, AZ 85324    2     1  \n",
       "33  Black Canyon City, AZ 85324    0     0  \n",
       "34  Black Canyon City, AZ 85324    0     0  \n",
       "35  Black Canyon City, AZ 85324    0     0  \n",
       "36  Black Canyon City, AZ 85324    0     0  "
      ],
      "text/html": "<div>\n<style scoped>\n    .dataframe tbody tr th:only-of-type {\n        vertical-align: middle;\n    }\n\n    .dataframe tbody tr th {\n        vertical-align: top;\n    }\n\n    .dataframe thead th {\n        text-align: right;\n    }\n</style>\n<table border=\"1\" class=\"dataframe\">\n  <thead>\n    <tr style=\"text-align: right;\">\n      <th></th>\n      <th>price</th>\n      <th>mls</th>\n      <th>addr1</th>\n      <th>addr2</th>\n      <th>beds</th>\n      <th>baths</th>\n    </tr>\n  </thead>\n  <tbody>\n    <tr>\n      <th>0</th>\n      <td>$725,000</td>\n      <td>MLS#20156419</td>\n      <td>0 Gateway</td>\n      <td>Rock Springs, WY 82901</td>\n      <td>0</td>\n      <td>0</td>\n    </tr>\n    <tr>\n      <th>1</th>\n      <td>$452,900</td>\n      <td>MLS#20152130</td>\n      <td>1003 Winchester Blvd.</td>\n      <td>Rock Springs, WY 82901</td>\n      <td>4</td>\n      <td>4</td>\n    </tr>\n    <tr>\n      <th>2</th>\n      <td>$396,900</td>\n      <td>MLS#20156389</td>\n      <td>600 Talladega</td>\n      <td>Rock Springs, WY 82901</td>\n      <td>5</td>\n      <td>3</td>\n    </tr>\n    <tr>\n      <th>3</th>\n      <td>$389,900</td>\n      <td>MLS#20160119</td>\n      <td>3239 Spearhead Way</td>\n      <td>Rock Springs, WY 82901</td>\n      <td>4</td>\n      <td>3</td>\n    </tr>\n    <tr>\n      <th>4</th>\n      <td>$254,000</td>\n      <td>MLS#20155008</td>\n      <td>522 Emerald Street</td>\n      <td>Rock Springs, WY 82901</td>\n      <td>3</td>\n      <td>3</td>\n    </tr>\n    <tr>\n      <th>5</th>\n      <td>$252,900</td>\n      <td>MLS#20160028</td>\n      <td>1302 Veteran's Drive</td>\n      <td>Rock Springs, WY 82901</td>\n      <td>4</td>\n      <td>2</td>\n    </tr>\n    <tr>\n      <th>6</th>\n      <td>$210,000</td>\n      <td>MLS#20156320</td>\n      <td>1021 Cypress Cir</td>\n      <td>Rock Springs, WY 82901</td>\n      <td>4</td>\n      <td>3</td>\n    </tr>\n    <tr>\n      <th>7</th>\n      <td>$209,000</td>\n      <td>MLS#20155756</td>\n      <td>913 Madison Dr</td>\n      <td>Rock Springs, WY 82901</td>\n      <td>3</td>\n      <td>2</td>\n    </tr>\n    <tr>\n      <th>8</th>\n      <td>$199,900</td>\n      <td>MLS#20156880</td>\n      <td>1344 Teton Street</td>\n      <td>Rock Springs, WY 82901</td>\n      <td>3</td>\n      <td>2</td>\n    </tr>\n    <tr>\n      <th>9</th>\n      <td>$196,900</td>\n      <td>MLS#20156365</td>\n      <td>4 Minnies Lane</td>\n      <td>Rock Springs, WY 82901</td>\n      <td>3</td>\n      <td>2</td>\n    </tr>\n    <tr>\n      <th>10</th>\n      <td>$1,700,000</td>\n      <td>MLS#81415</td>\n      <td>9339 Sd 26900</td>\n      <td>Rocksprings, TX 78880</td>\n      <td>0</td>\n      <td>0</td>\n    </tr>\n    <tr>\n      <th>11</th>\n      <td>$1,100,000</td>\n      <td>MLS#85217</td>\n      <td>RR674P13 Hwy 377</td>\n      <td>Rocksprings, TX 78880</td>\n      <td>0</td>\n      <td>0</td>\n    </tr>\n    <tr>\n      <th>12</th>\n      <td>$1,080,000</td>\n      <td>MLS#86198</td>\n      <td>0 Hwy 41</td>\n      <td>Rocksprings, TX 78880</td>\n      <td>0</td>\n      <td>0</td>\n    </tr>\n    <tr>\n      <th>13</th>\n      <td>$908,350</td>\n      <td>MLS#85642</td>\n      <td>9339 Sd 26900</td>\n      <td>Rocksprings, TX 78880</td>\n      <td>0</td>\n      <td>0</td>\n    </tr>\n    <tr>\n      <th>14</th>\n      <td>$905,000</td>\n      <td>MLS#85215</td>\n      <td>CR450 Hwy 377</td>\n      <td>Rocksprings, TX 78880</td>\n      <td>0</td>\n      <td>0</td>\n    </tr>\n    <tr>\n      <th>15</th>\n      <td>$695,000</td>\n      <td>MLS#86361</td>\n      <td>Cr 240 Cr 240</td>\n      <td>Rocksprings, TX 78880</td>\n      <td>0</td>\n      <td>0</td>\n    </tr>\n    <tr>\n      <th>16</th>\n      <td>$605,000</td>\n      <td>MLS#86312</td>\n      <td>RR674 Hwy 377</td>\n      <td>Rocksprings, TX 78880</td>\n      <td>0</td>\n      <td>0</td>\n    </tr>\n    <tr>\n      <th>17</th>\n      <td>$559,805</td>\n      <td>MLS#85713</td>\n      <td>9770a Sd 26900</td>\n      <td>Rocksprings, TX 78880</td>\n      <td>0</td>\n      <td>0</td>\n    </tr>\n    <tr>\n      <th>18</th>\n      <td>$504,000</td>\n      <td>MLS#86642</td>\n      <td>Lot17 CR 2630</td>\n      <td>Rocksprings, TX 78880</td>\n      <td>0</td>\n      <td>0</td>\n    </tr>\n    <tr>\n      <th>19</th>\n      <td>$410,000</td>\n      <td>MLS#86390</td>\n      <td>Tr12,16 CR 520</td>\n      <td>Rocksprings, TX 78880</td>\n      <td>0</td>\n      <td>0</td>\n    </tr>\n    <tr>\n      <th>20</th>\n      <td>$299,900</td>\n      <td>MLS#4857876</td>\n      <td>32575 S Shadow Mountain Road</td>\n      <td>Black Canyon City, AZ 85324</td>\n      <td>3</td>\n      <td>2</td>\n    </tr>\n    <tr>\n      <th>21</th>\n      <td>$167,500</td>\n      <td>MLS#4773355</td>\n      <td>32750 S Shangrila Drive</td>\n      <td>Black Canyon City, AZ 85324</td>\n      <td>3</td>\n      <td>2</td>\n    </tr>\n    <tr>\n      <th>22</th>\n      <td>$150,000</td>\n      <td>MLS#4841819</td>\n      <td>0000 Black Canyon Highway</td>\n      <td>Black Canyon City, AZ 85324</td>\n      <td>0</td>\n      <td>0</td>\n    </tr>\n    <tr>\n      <th>23</th>\n      <td>$129,500</td>\n      <td>MLS#4686266</td>\n      <td>34775 S CHOLLA Drive</td>\n      <td>Black Canyon City, AZ 85324</td>\n      <td>3</td>\n      <td>2</td>\n    </tr>\n    <tr>\n      <th>24</th>\n      <td>$129,000</td>\n      <td>MLS#4724003</td>\n      <td>33403 S. HA-WA-SI TERRACE</td>\n      <td>BLACK CANYON CITY, AZ 85324</td>\n      <td>4</td>\n      <td>2</td>\n    </tr>\n    <tr>\n      <th>25</th>\n      <td>$80,000</td>\n      <td>MLS#4805622</td>\n      <td>34263 S Bertha Street</td>\n      <td>Black Canyon City, AZ 85324</td>\n      <td>5</td>\n      <td>2</td>\n    </tr>\n    <tr>\n      <th>26</th>\n      <td>$77,900</td>\n      <td>MLS#4782047</td>\n      <td>33160 S Canyon Road</td>\n      <td>Black Canyon City, AZ 85324</td>\n      <td>3</td>\n      <td>2</td>\n    </tr>\n    <tr>\n      <th>27</th>\n      <td>$70,500</td>\n      <td>MLS#4828193</td>\n      <td>19421 E Todd Evans Road</td>\n      <td>Black Canyon City, AZ 85324</td>\n      <td>3</td>\n      <td>2</td>\n    </tr>\n    <tr>\n      <th>28</th>\n      <td>$70,000</td>\n      <td>MLS#4835071</td>\n      <td>18688 E AGUA Vista</td>\n      <td>Black Canyon City, AZ 85324</td>\n      <td>0</td>\n      <td>0</td>\n    </tr>\n    <tr>\n      <th>29</th>\n      <td>$67,500</td>\n      <td>MLS#2616830</td>\n      <td>50600 N Old Black Canyon Road</td>\n      <td>Black Canyon City, AZ 85324</td>\n      <td>0</td>\n      <td>0</td>\n    </tr>\n    <tr>\n      <th>30</th>\n      <td>$54,900</td>\n      <td>MLS#4824906</td>\n      <td>20101 E SQUAW VALLEY Road</td>\n      <td>Black Canyon City, AZ 85324</td>\n      <td>0</td>\n      <td>0</td>\n    </tr>\n    <tr>\n      <th>31</th>\n      <td>$45,600</td>\n      <td>MLS#4722011</td>\n      <td>33259 S Canyon Road</td>\n      <td>Black Canyon City, AZ 85324</td>\n      <td>3</td>\n      <td>1</td>\n    </tr>\n    <tr>\n      <th>32</th>\n      <td>$40,000</td>\n      <td>MLS#4657463</td>\n      <td>34558 S ROADRUNNER RD</td>\n      <td>Black Canyon City, AZ 85324</td>\n      <td>2</td>\n      <td>1</td>\n    </tr>\n    <tr>\n      <th>33</th>\n      <td>$30,000</td>\n      <td>MLS#4781544</td>\n      <td>19260 E Scenic Loop Road</td>\n      <td>Black Canyon City, AZ 85324</td>\n      <td>0</td>\n      <td>0</td>\n    </tr>\n    <tr>\n      <th>34</th>\n      <td>$29,000</td>\n      <td>MLS#4621064</td>\n      <td>19000 E MAREN Avenue</td>\n      <td>Black Canyon City, AZ 85324</td>\n      <td>0</td>\n      <td>0</td>\n    </tr>\n    <tr>\n      <th>35</th>\n      <td>$28,995</td>\n      <td>MLS#4848089</td>\n      <td>19350 E SAGUARO Drive</td>\n      <td>Black Canyon City, AZ 85324</td>\n      <td>0</td>\n      <td>0</td>\n    </tr>\n    <tr>\n      <th>36</th>\n      <td>$15,000</td>\n      <td>MLS#4749944</td>\n      <td>20650 E Amethyst Place</td>\n      <td>Black Canyon City, AZ 85324</td>\n      <td>0</td>\n      <td>0</td>\n    </tr>\n  </tbody>\n</table>\n</div>"
     },
     "metadata": {},
     "execution_count": 27
    }
   ],
   "source": [
    "df"
   ]
  },
  {
   "cell_type": "code",
   "execution_count": null,
   "metadata": {},
   "outputs": [],
   "source": []
  }
 ]
}