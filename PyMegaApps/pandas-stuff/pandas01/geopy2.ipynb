{
 "metadata": {
  "language_info": {
   "codemirror_mode": {
    "name": "ipython",
    "version": 3
   },
   "file_extension": ".py",
   "mimetype": "text/x-python",
   "name": "python",
   "nbconvert_exporter": "python",
   "pygments_lexer": "ipython3",
   "version": "3.8.1"
  },
  "orig_nbformat": 4,
  "kernelspec": {
   "name": "python3",
   "display_name": "Python 3.8.1 64-bit ('venv': venv)"
  },
  "interpreter": {
   "hash": "45e2c4e5dfc159d342ce7dba2130c7b213f9862d90bf377a920f00941f0ce223"
  }
 },
 "nbformat": 4,
 "nbformat_minor": 2,
 "cells": [
  {
   "cell_type": "code",
   "execution_count": null,
   "metadata": {},
   "outputs": [],
   "source": [
    "from geopy.geocoders import ArcGIS\n",
    "import pandas as pd\n",
    "nom = ArcGIS()"
   ]
  },
  {
   "cell_type": "code",
   "execution_count": null,
   "metadata": {},
   "outputs": [],
   "source": [
    "df=pd.read_csv(\"D:\\py\\pycode\\PyMegaApps\\pandas-stuff\\pandas01\\supermarkets.csv\")\n",
    "df"
   ]
  },
  {
   "cell_type": "code",
   "execution_count": null,
   "metadata": {},
   "outputs": [],
   "source": [
    "df[\"address\"]=df[\"Address\"]+\", \"+df[\"City\"]+\", \"+df[\"State\"]+\", \"+df[\"Country\"]"
   ]
  },
  {
   "cell_type": "code",
   "execution_count": null,
   "metadata": {},
   "outputs": [],
   "source": [
    "df"
   ]
  },
  {
   "cell_type": "code",
   "execution_count": null,
   "metadata": {},
   "outputs": [],
   "source": [
    "df=df.drop(\"Address\",axis=1)"
   ]
  },
  {
   "cell_type": "code",
   "execution_count": null,
   "metadata": {},
   "outputs": [],
   "source": [
    "df"
   ]
  },
  {
   "cell_type": "code",
   "execution_count": null,
   "metadata": {},
   "outputs": [],
   "source": [
    "df[\"geocode\"]=df[\"address\"].apply(nom.geocode)"
   ]
  },
  {
   "cell_type": "code",
   "execution_count": null,
   "metadata": {},
   "outputs": [],
   "source": [
    "df"
   ]
  },
  {
   "cell_type": "code",
   "execution_count": null,
   "metadata": {},
   "outputs": [],
   "source": [
    "df=df.drop(1,axis=0)"
   ]
  },
  {
   "cell_type": "code",
   "execution_count": 15,
   "metadata": {},
   "outputs": [],
   "source": [
    "df[\"Lat\"]=df[\"geocode\"].apply(lambda x: x.latitude)"
   ]
  },
  {
   "cell_type": "code",
   "execution_count": 17,
   "metadata": {},
   "outputs": [],
   "source": [
    "df[\"Lat\"]=df[\"geocode\"].apply(lambda x: x.longitude)"
   ]
  },
  {
   "cell_type": "code",
   "execution_count": 18,
   "metadata": {},
   "outputs": [
    {
     "output_type": "execute_result",
     "data": {
      "text/plain": [
       "   ID           City             State Country         Name  Employees  \\\n",
       "0   1  San Francisco          CA 94114     USA      Madeira          8   \n",
       "2   3  San Francisco  California 94114     USA  Super River         25   \n",
       "3   4  San Francisco          CA 94114     USA   Ben's Shop         10   \n",
       "4   5  San Francisco        California     USA      Sanchez         12   \n",
       "5   6  San Francisco          CA 94114     USA   Richvalley         20   \n",
       "\n",
       "                                             address  \\\n",
       "0         3666 21st St, San Francisco, CA 94114, USA   \n",
       "2  332 Hill St, San Francisco, California 94114, USA   \n",
       "3         3995 23rd St, San Francisco, CA 94114, USA   \n",
       "4    1056 Sanchez St, San Francisco, California, USA   \n",
       "5      551 Alvarado St, San Francisco, CA 94114, USA   \n",
       "\n",
       "                                             geocode         Lat  \n",
       "0  (3666 21st St, San Francisco, California, 9411... -122.429411  \n",
       "2  (332 Hill St, San Francisco, California, 94114... -122.428813  \n",
       "3  (3995 23rd St, San Francisco, California, 9411... -122.431703  \n",
       "4  (1056 Sanchez St, San Francisco, California, 9... -122.430006  \n",
       "5  (551 Alvarado St, San Francisco, California, 9... -122.433234  "
      ],
      "text/html": "<div>\n<style scoped>\n    .dataframe tbody tr th:only-of-type {\n        vertical-align: middle;\n    }\n\n    .dataframe tbody tr th {\n        vertical-align: top;\n    }\n\n    .dataframe thead th {\n        text-align: right;\n    }\n</style>\n<table border=\"1\" class=\"dataframe\">\n  <thead>\n    <tr style=\"text-align: right;\">\n      <th></th>\n      <th>ID</th>\n      <th>City</th>\n      <th>State</th>\n      <th>Country</th>\n      <th>Name</th>\n      <th>Employees</th>\n      <th>address</th>\n      <th>geocode</th>\n      <th>Lat</th>\n    </tr>\n  </thead>\n  <tbody>\n    <tr>\n      <th>0</th>\n      <td>1</td>\n      <td>San Francisco</td>\n      <td>CA 94114</td>\n      <td>USA</td>\n      <td>Madeira</td>\n      <td>8</td>\n      <td>3666 21st St, San Francisco, CA 94114, USA</td>\n      <td>(3666 21st St, San Francisco, California, 9411...</td>\n      <td>-122.429411</td>\n    </tr>\n    <tr>\n      <th>2</th>\n      <td>3</td>\n      <td>San Francisco</td>\n      <td>California 94114</td>\n      <td>USA</td>\n      <td>Super River</td>\n      <td>25</td>\n      <td>332 Hill St, San Francisco, California 94114, USA</td>\n      <td>(332 Hill St, San Francisco, California, 94114...</td>\n      <td>-122.428813</td>\n    </tr>\n    <tr>\n      <th>3</th>\n      <td>4</td>\n      <td>San Francisco</td>\n      <td>CA 94114</td>\n      <td>USA</td>\n      <td>Ben's Shop</td>\n      <td>10</td>\n      <td>3995 23rd St, San Francisco, CA 94114, USA</td>\n      <td>(3995 23rd St, San Francisco, California, 9411...</td>\n      <td>-122.431703</td>\n    </tr>\n    <tr>\n      <th>4</th>\n      <td>5</td>\n      <td>San Francisco</td>\n      <td>California</td>\n      <td>USA</td>\n      <td>Sanchez</td>\n      <td>12</td>\n      <td>1056 Sanchez St, San Francisco, California, USA</td>\n      <td>(1056 Sanchez St, San Francisco, California, 9...</td>\n      <td>-122.430006</td>\n    </tr>\n    <tr>\n      <th>5</th>\n      <td>6</td>\n      <td>San Francisco</td>\n      <td>CA 94114</td>\n      <td>USA</td>\n      <td>Richvalley</td>\n      <td>20</td>\n      <td>551 Alvarado St, San Francisco, CA 94114, USA</td>\n      <td>(551 Alvarado St, San Francisco, California, 9...</td>\n      <td>-122.433234</td>\n    </tr>\n  </tbody>\n</table>\n</div>"
     },
     "metadata": {},
     "execution_count": 18
    }
   ],
   "source": [
    "df"
   ]
  },
  {
   "cell_type": "code",
   "execution_count": null,
   "metadata": {},
   "outputs": [],
   "source": []
  }
 ]
}