{
 "cells": [
  {
   "cell_type": "code",
   "execution_count": 1,
   "metadata": {},
   "outputs": [
    {
     "name": "stdout",
     "output_type": "stream",
     "text": [
      "8\n"
     ]
    }
   ],
   "source": [
    "def f1(fn):\n",
    "    def f2(x):\n",
    "        return 2 * fn(x)\n",
    "    return f2\n",
    "\n",
    "sum = f1(sum)\n",
    "\n",
    "print(sum([1,1,2]))"
   ]
  },
  {
   "cell_type": "code",
   "execution_count": null,
   "metadata": {},
   "outputs": [],
   "source": [
    "def factorial(x):\n",
    "    y = 1\n",
    "    for i in range(1,x + 1):\n",
    "        y *= i\n",
    "        print(y)\n",
    "    return y\n",
    "print(factorial(6))\n",
    "print(factorial(4))\n",
    "print(factorial(6) // factorial(4))"
   ]
  },
  {
   "cell_type": "code",
   "execution_count": 8,
   "metadata": {},
   "outputs": [
    {
     "data": {
      "text/plain": [
       "True"
      ]
     },
     "execution_count": 8,
     "metadata": {},
     "output_type": "execute_result"
    }
   ],
   "source": [
    "def follows(A,B):\n",
    "    return not A or B\n",
    "\n",
    "follows(True, True)"
   ]
  },
  {
   "cell_type": "code",
   "execution_count": 10,
   "metadata": {},
   "outputs": [
    {
     "data": {
      "text/plain": [
       "'0b11101'"
      ]
     },
     "execution_count": 10,
     "metadata": {},
     "output_type": "execute_result"
    }
   ],
   "source": [
    "bin(29)\n",
    "#11101.1001\n",
    "#29.5625"
   ]
  },
  {
   "cell_type": "code",
   "execution_count": 12,
   "metadata": {},
   "outputs": [
    {
     "name": "stdout",
     "output_type": "stream",
     "text": [
      "2\n"
     ]
    }
   ],
   "source": [
    "letters = ['a','b','c','d']\n",
    "\n",
    "print(len(letters[1:-1]))\n",
    "#b"
   ]
  },
  {
   "cell_type": "code",
   "execution_count": 16,
   "metadata": {},
   "outputs": [
    {
     "name": "stdout",
     "output_type": "stream",
     "text": [
      "2\n"
     ]
    }
   ],
   "source": [
    "def lev(a,b):\n",
    "    if not a: return len(b)\n",
    "    if not b: return len(a)\n",
    "    return min(lev(a[1:],b[1:]) + (a[0] != b[0]), \n",
    "        lev(a[1:], b)+1, lev(a, b[1:])+1)\n",
    "print(lev(\"hellof\", \"bellog\"))"
   ]
  },
  {
   "cell_type": "code",
   "execution_count": 18,
   "metadata": {},
   "outputs": [
    {
     "name": "stdout",
     "output_type": "stream",
     "text": [
      "0\n",
      "1\n",
      "2\n"
     ]
    }
   ],
   "source": [
    "for i in range(3):\n",
    "    print(i)"
   ]
  },
  {
   "cell_type": "code",
   "execution_count": 19,
   "metadata": {},
   "outputs": [
    {
     "name": "stdout",
     "output_type": "stream",
     "text": [
      "python\n"
     ]
    }
   ],
   "source": [
    "x = 'py' 'thon'\n",
    "print(x)"
   ]
  },
  {
   "cell_type": "code",
   "execution_count": 22,
   "metadata": {},
   "outputs": [
    {
     "name": "stdout",
     "output_type": "stream",
     "text": [
      "False\n"
     ]
    }
   ],
   "source": [
    "xs = [[1,2],[3,4]]\n",
    "ys = list(xs)\n",
    "print(ys is xs)"
   ]
  },
  {
   "cell_type": "code",
   "execution_count": 24,
   "metadata": {},
   "outputs": [
    {
     "name": "stdout",
     "output_type": "stream",
     "text": [
      "2\n"
     ]
    }
   ],
   "source": [
    "def f(x,y,z=0):\n",
    "    if z:\n",
    "        return min(y)\n",
    "    else:\n",
    "        return max(y)\n",
    "\n",
    "args = {'y': (2,3,4), 'z':5}\n",
    "\n",
    "x = f(x=1, **args)\n",
    "print(x)"
   ]
  },
  {
   "cell_type": "code",
   "execution_count": 29,
   "metadata": {},
   "outputs": [
    {
     "name": "stdout",
     "output_type": "stream",
     "text": [
      "3\n",
      "5\n",
      "7\n"
     ]
    }
   ],
   "source": [
    "for num in range(2,8):\n",
    "    if num % 2 == 0:\n",
    "        continue\n",
    "    print(num)"
   ]
  },
  {
   "cell_type": "code",
   "execution_count": 32,
   "metadata": {},
   "outputs": [
    {
     "name": "stdout",
     "output_type": "stream",
     "text": [
      "-1\n",
      "-1\n",
      "23\n"
     ]
    }
   ],
   "source": [
    "s1 = \"Ronaldo is better than Messi\"\n",
    "print(s1.find(\"Ronaldo\", 5))\n",
    "print(s1.find(\"Football\"))\n",
    "print(s1.find(\"Messi\", 5, 100))"
   ]
  },
  {
   "cell_type": "code",
   "execution_count": 34,
   "metadata": {},
   "outputs": [
    {
     "name": "stdout",
     "output_type": "stream",
     "text": [
      "2.0\n"
     ]
    }
   ],
   "source": [
    "n = 16\n",
    "x = 0\n",
    "while x < 3:\n",
    "    n /= 2\n",
    "    x += 1\n",
    "\n",
    "print(n)"
   ]
  },
  {
   "cell_type": "code",
   "execution_count": 37,
   "metadata": {},
   "outputs": [
    {
     "name": "stdout",
     "output_type": "stream",
     "text": [
      "4\n"
     ]
    }
   ],
   "source": [
    "t = [1,2,3]\n",
    "t[1000:1003] = [4]\n",
    "print(t[3])"
   ]
  },
  {
   "cell_type": "code",
   "execution_count": 38,
   "metadata": {},
   "outputs": [
    {
     "name": "stdout",
     "output_type": "stream",
     "text": [
      "['Ann', 'Alice']\n",
      "['Ann', 'Alice', 'Bob']\n"
     ]
    }
   ],
   "source": [
    "customers = ['Ann', 'Alice', 'Bob']\n",
    "buyers = customers.copy()\n",
    "buyers.remove('Bob')\n",
    "print(buyers)\n",
    "print(customers)"
   ]
  },
  {
   "cell_type": "code",
   "execution_count": 42,
   "metadata": {},
   "outputs": [
    {
     "name": "stdout",
     "output_type": "stream",
     "text": [
      "10\n",
      "9\n"
     ]
    }
   ],
   "source": [
    "def depreciation1(asset_value, rate):\n",
    "    asset_value = asset_value * rate\n",
    "\n",
    "def depreciation2(asset_values, rate):\n",
    "    for i in range(len(asset_values)):\n",
    "        asset_values[i] = asset_values[i] * rate\n",
    "\n",
    "asset_value = 10\n",
    "depreciation1(asset_value, 0.9)\n",
    "print(asset_value)\n",
    "\n",
    "my_asset_values = [10, 100, 1000]\n",
    "depreciation2(my_asset_values, 0.9)\n",
    "print(int(my_asset_values[0]))"
   ]
  },
  {
   "cell_type": "code",
   "execution_count": 45,
   "metadata": {},
   "outputs": [
    {
     "name": "stdout",
     "output_type": "stream",
     "text": [
      "[0, 1]\n"
     ]
    }
   ],
   "source": [
    "t = [0]\n",
    "s1 = s2 = t\n",
    "s1 = s1 + [1]\n",
    "s2 += [1]\n",
    "\n",
    "print(t)\n"
   ]
  },
  {
   "cell_type": "code",
   "execution_count": 46,
   "metadata": {},
   "outputs": [
    {
     "name": "stdout",
     "output_type": "stream",
     "text": [
      "1\n"
     ]
    }
   ],
   "source": [
    "class A:\n",
    "    var = 1\n",
    "class B(A):\n",
    "    pass\n",
    "class C:\n",
    "    var = 3\n",
    "class D(B, C):\n",
    "    pass\n",
    "print(D.var)\n",
    "\n",
    "# 1"
   ]
  },
  {
   "cell_type": "code",
   "execution_count": 50,
   "metadata": {},
   "outputs": [
    {
     "name": "stdout",
     "output_type": "stream",
     "text": [
      "0b101101\n"
     ]
    }
   ],
   "source": [
    "print(bin(45)[0:])\n",
    "# 101101"
   ]
  },
  {
   "cell_type": "code",
   "execution_count": 55,
   "metadata": {},
   "outputs": [
    {
     "name": "stdout",
     "output_type": "stream",
     "text": [
      "2\n"
     ]
    }
   ],
   "source": [
    "import pandas as pd\n",
    "\n",
    "data = {\n",
    "    'Country':['Germany','France','Spain', 'China'],\n",
    "    'Continent':['Europe','Europe','Europe', 'Asia']\n",
    "}\n",
    "df = pd.DataFrame(data)\n",
    "result = df.ndim\n",
    "\n",
    "print(result)"
   ]
  },
  {
   "cell_type": "code",
   "execution_count": 56,
   "metadata": {},
   "outputs": [
    {
     "name": "stdout",
     "output_type": "stream",
     "text": [
      "3\n",
      "0\n",
      "3\n",
      "3\n"
     ]
    }
   ],
   "source": [
    "x = 0\n",
    "def f():\n",
    "    x = 3\n",
    "    print(x)\n",
    "def g():\n",
    "    global x\n",
    "    x = 3\n",
    "    print(x)\n",
    "f()\n",
    "print(x)\n",
    "g()\n",
    "print(x)\n",
    "\n",
    "#3\n",
    "#0\n",
    "#3\n",
    "#3\n"
   ]
  },
  {
   "cell_type": "code",
   "execution_count": 57,
   "metadata": {},
   "outputs": [
    {
     "name": "stdout",
     "output_type": "stream",
     "text": [
      "\"hello world's end\"\n"
     ]
    }
   ],
   "source": [
    "print('\\\"hello' + \" \" + \"world's end\\\"\")\n",
    "\n",
    "#\"hello world's end\""
   ]
  },
  {
   "cell_type": "code",
   "execution_count": 59,
   "metadata": {},
   "outputs": [
    {
     "name": "stdout",
     "output_type": "stream",
     "text": [
      "True\n"
     ]
    }
   ],
   "source": [
    "def fibo(n):\n",
    "    result = []\n",
    "    a,b = 0, 1\n",
    "    while a < n:\n",
    "        result.append(a)\n",
    "        a,b = b, a+b\n",
    "    return result\n",
    "\n",
    "fib100 = fibo(100)\n",
    "print(fib100[-1]==fib100[-2]+fib100[-3])"
   ]
  },
  {
   "cell_type": "code",
   "execution_count": 60,
   "metadata": {},
   "outputs": [
    {
     "name": "stdout",
     "output_type": "stream",
     "text": [
      "[1, 2, 3, 4, 6, 9]\n"
     ]
    }
   ],
   "source": [
    "def A(s):\n",
    "    if len(s) < 2:\n",
    "        return s\n",
    "    else:\n",
    "        return A([x for x in s[1:] if x < s[0]]) \\\n",
    "        + [s[0]] \\\n",
    "        + A([x for x in s[1:] if x >= s[0]])\n",
    "\n",
    "print(A([6,4,1,3,2,9]))\n",
    "\n",
    "#[6, 4, 1, 3, 2, 9]"
   ]
  },
  {
   "cell_type": "code",
   "execution_count": 61,
   "metadata": {},
   "outputs": [
    {
     "name": "stdout",
     "output_type": "stream",
     "text": [
      "0\n"
     ]
    }
   ],
   "source": [
    "import numpy as np\n",
    "\n",
    "APPLE = np.array(\n",
    "    [[50,60,55],\n",
    "    [60,60,65]])\n",
    "\n",
    "y = np.var(APPLE, axis = 0)[1]\n",
    "\n",
    "print(int(y))"
   ]
  },
  {
   "cell_type": "code",
   "execution_count": 63,
   "metadata": {},
   "outputs": [
    {
     "name": "stdout",
     "output_type": "stream",
     "text": [
      "[2.  2.5 4.5]\n"
     ]
    }
   ],
   "source": [
    "import numpy as np\n",
    "\n",
    "solar_x = np.array(\n",
    "    [[2,3,4],\n",
    "    [2,2,5]])\n",
    "print(np.average(solar_x, axis=0))\n",
    "\n",
    "#[2.0, 2.5, 4.5]"
   ]
  },
  {
   "cell_type": "code",
   "execution_count": 2,
   "metadata": {},
   "outputs": [
    {
     "name": "stdout",
     "output_type": "stream",
     "text": [
      "9\n"
     ]
    }
   ],
   "source": [
    "def f(n):\n",
    "    for _ in range(n):\n",
    "        yield  _\n",
    "    \n",
    "g1 = f(3)\n",
    "g2 = f(4)\n",
    "#print(list(g1))\n",
    "#print(sum([1,4,5,2]))\n",
    "#print(sum(g2))\n",
    "print(sum(g1) + sum(g2))"
   ]
  },
  {
   "cell_type": "code",
   "execution_count": 3,
   "metadata": {},
   "outputs": [
    {
     "name": "stdout",
     "output_type": "stream",
     "text": [
      "1\n"
     ]
    }
   ],
   "source": [
    "import numpy as np\n",
    "\n",
    "fibs = np.array([0,1,1,2,3,5,8,13,21])\n",
    "\n",
    "print(np.diff(fibs, n=2)[3])\n",
    "\n",
    "#[1,0,1,1,2,3,5,8]\n",
    "#[-1,1,0,1,1,2,3]"
   ]
  },
  {
   "cell_type": "code",
   "execution_count": 5,
   "metadata": {},
   "outputs": [
    {
     "name": "stdout",
     "output_type": "stream",
     "text": [
      "I'm happy.\n",
      "I want to dance.\n",
      "I love ice cream.\n"
     ]
    }
   ],
   "source": [
    "import re\n",
    "\n",
    "texts = [\"I'm not happy.\",\n",
    "         \"I don't want to dance.\",\n",
    "         \"I don't love ice cream.\"]\n",
    "\n",
    "pattern = re.compile(\"not |don't \")\n",
    "print(pattern.sub('', texts[0]))\n",
    "print(pattern.sub('', texts[1]))\n",
    "print(pattern.sub('', texts[2]))\n",
    "\n",
    "#I'm happy.\n",
    "#I want to dance.\n",
    "#I love ice cream."
   ]
  },
  {
   "cell_type": "code",
   "execution_count": 12,
   "metadata": {},
   "outputs": [
    {
     "name": "stdout",
     "output_type": "stream",
     "text": [
      "4.0\n",
      "0.0\n",
      "16.0\n",
      "[ 4.  0. 16.]\n"
     ]
    }
   ],
   "source": [
    "import numpy as np\n",
    "\n",
    "x = np.array([[1,5],\n",
    "              [1,1],\n",
    "              [0,8]])\n",
    "y = np.var(x, axis=1)\n",
    "print(y[0])\n",
    "print(y[1])\n",
    "print(y[2])\n",
    "print(y)\n",
    "\n",
    "#4\n",
    "#0\n",
    "#8\n"
   ]
  },
  {
   "cell_type": "code",
   "execution_count": 15,
   "metadata": {},
   "outputs": [
    {
     "name": "stdout",
     "output_type": "stream",
     "text": [
      "0\n"
     ]
    }
   ],
   "source": [
    "import re\n",
    "\n",
    "matches = re.findall('\\.','Coconut')\n",
    "result = len(matches)\n",
    "print(result)"
   ]
  },
  {
   "cell_type": "code",
   "execution_count": 13,
   "metadata": {},
   "outputs": [
    {
     "name": "stdout",
     "output_type": "stream",
     "text": [
      "[1, 3, 5]\n"
     ]
    }
   ],
   "source": [
    "d = {1:2,3:4,5:6}\n",
    "\n",
    "print(list(d))\n",
    "\n"
   ]
  },
  {
   "cell_type": "code",
   "execution_count": null,
   "metadata": {},
   "outputs": [],
   "source": [
    "import re\n",
    "\n",
    "string = 'Coconut'\n",
    "\n",
    "c1 = re.search('C', string)\n",
    "print(c1)\n",
    "c2 = 'C' in string[0]\n",
    "print(c2)\n",
    "c3 = string.startswith('C')\n",
    "print(c3)\n",
    "c4 = 'C' == string[:1]\n",
    "print(c4)\n",
    "result = c2 and c1 and c3 and c4\n",
    "print(result)\n",
    "\n"
   ]
  },
  {
   "cell_type": "code",
   "execution_count": 9,
   "metadata": {},
   "outputs": [
    {
     "name": "stdout",
     "output_type": "stream",
     "text": [
      "*p\n"
     ]
    }
   ],
   "source": [
    "import re\n",
    "\n",
    "regex = r'.{2,4}'\n",
    "strings = [\n",
    "    '$',\n",
    "    '*p',\n",
    "    '!$!',\n",
    "    'x45o',\n",
    "    '#v1^/'\n",
    "]\n",
    "result = next(s for s in strings if re.fullmatch(regex, s))\n",
    "print(result)"
   ]
  },
  {
   "cell_type": "code",
   "execution_count": 10,
   "metadata": {},
   "outputs": [
    {
     "name": "stdout",
     "output_type": "stream",
     "text": [
      "[10, 2, 10, 10]\n"
     ]
    }
   ],
   "source": [
    "print(list(map(lambda x: 2 + (0 if x==1 else 8),range(4))))\n",
    "\n",
    "#[10,2,10,10]"
   ]
  },
  {
   "cell_type": "code",
   "execution_count": 2,
   "metadata": {},
   "outputs": [
    {
     "name": "stdout",
     "output_type": "stream",
     "text": [
      "True\n"
     ]
    }
   ],
   "source": [
    "import time as t\n",
    "\n",
    "def f1(n):\n",
    "    return ''.join([str(x) for x in range(n)])\n",
    "\n",
    "def f2(n):\n",
    "    s = ''\n",
    "    for x in range(n):\n",
    "        s += str(x)\n",
    "    return s\n",
    "n = 10**6\n",
    "t1 = t.time()\n",
    "f1(n)\n",
    "t2 = t.time()\n",
    "f2(n)\n",
    "t3 = t.time()\n",
    "\n",
    "print(t3 - t2 > t2 - t1)\n",
    "\n",
    "# True"
   ]
  },
  {
   "cell_type": "code",
   "execution_count": 4,
   "metadata": {},
   "outputs": [
    {
     "name": "stdout",
     "output_type": "stream",
     "text": [
      "-8.0\n"
     ]
    }
   ],
   "source": [
    "x = 5 // -3.0 * 4\n",
    "print(x)\n",
    "\n",
    "#-0.4166"
   ]
  },
  {
   "cell_type": "code",
   "execution_count": 5,
   "metadata": {},
   "outputs": [
    {
     "name": "stdout",
     "output_type": "stream",
     "text": [
      "2\n"
     ]
    }
   ],
   "source": [
    "import numpy as np\n",
    "\n",
    "a = [[1,1],\n",
    "    [1,0]]\n",
    "\n",
    "b = [[2,0],\n",
    "    [0,2]]\n",
    "c = np.matmul(a,b)\n",
    "print(c[0,1])\n",
    "\n",
    "#"
   ]
  },
  {
   "cell_type": "code",
   "execution_count": 9,
   "metadata": {},
   "outputs": [
    {
     "name": "stdout",
     "output_type": "stream",
     "text": [
      "['Spid', 'man']\n"
     ]
    }
   ],
   "source": [
    "import re\n",
    "regex = \"e.\"\n",
    "string = \"Spiderman\"\n",
    "result = re.split(regex,string)\n",
    "print(result)\n"
   ]
  },
  {
   "cell_type": "code",
   "execution_count": 11,
   "metadata": {},
   "outputs": [
    {
     "name": "stdout",
     "output_type": "stream",
     "text": [
      "5\n"
     ]
    }
   ],
   "source": [
    "x = 55 // 11\n",
    "print(x)\n",
    "\n",
    "#5"
   ]
  },
  {
   "cell_type": "code",
   "execution_count": 13,
   "metadata": {},
   "outputs": [
    {
     "name": "stdout",
     "output_type": "stream",
     "text": [
      "A,B,C\n"
     ]
    }
   ],
   "source": [
    "def concat(*args, sep=\"/\"):\n",
    "    return sep.join(args)\n",
    "print(concat(\"A\",\"B\",\"C\",sep=\",\"))"
   ]
  },
  {
   "cell_type": "code",
   "execution_count": 15,
   "metadata": {},
   "outputs": [
    {
     "name": "stdout",
     "output_type": "stream",
     "text": [
      "False\n"
     ]
    }
   ],
   "source": [
    "print(\"\"\"A\n",
    "B\n",
    "C\n",
    "\"\"\"==\"\\nA\\nB\\nC\\n\")"
   ]
  }
 ],
 "metadata": {
  "interpreter": {
   "hash": "45e2c4e5dfc159d342ce7dba2130c7b213f9862d90bf377a920f00941f0ce223"
  },
  "kernelspec": {
   "display_name": "Python 3.8.1 64-bit ('venv': venv)",
   "language": "python",
   "name": "python3"
  },
  "language_info": {
   "codemirror_mode": {
    "name": "ipython",
    "version": 3
   },
   "file_extension": ".py",
   "mimetype": "text/x-python",
   "name": "python",
   "nbconvert_exporter": "python",
   "pygments_lexer": "ipython3",
   "version": "3.8.1"
  },
  "orig_nbformat": 4
 },
 "nbformat": 4,
 "nbformat_minor": 2
}
