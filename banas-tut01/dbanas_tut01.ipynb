{
  "cells": [
    {
      "cell_type": "code",
      "execution_count": 13,
      "metadata": {
        "id": "5sAGXWxkoX6v"
      },
      "outputs": [],
      "source": [
        "import numpy as np\n",
        "import pandas as pd\n",
        "from pandas_datareader import data as web\n",
        "import matplotlib.pyplot as plt\n",
        "import matplotlib.dates as mdates\n",
        "%matplotlib inline\n",
        "import datetime as dt\n",
        "import mplfinance as mpf\n",
        "import yfinance as yf"
      ]
    },
    {
      "cell_type": "code",
      "execution_count": null,
      "metadata": {
        "id": "f3jTpIUpVjX3"
      },
      "outputs": [],
      "source": [
        "#pip install yfinance"
      ]
    },
    {
      "cell_type": "markdown",
      "metadata": {
        "id": "XZkz5CaPkKor"
      },
      "source": [
        "# **Function to save stock data to CSV**\n"
      ]
    },
    {
      "cell_type": "code",
      "execution_count": 7,
      "metadata": {
        "id": "IUxA9RkskGBd"
      },
      "outputs": [],
      "source": [
        "def save_to_csv_from_yahoo(ticker, sdate, edate):\n",
        "  #start = dt.datetime(sdate)\n",
        "  #end = dt.datetime(edate)\n",
        "\n",
        "  #tickerData = yf.Ticker(ticker)\n",
        "  \n",
        "  # get historical market data\n",
        "  #df = tickerData.history(period=\"max\")\n",
        "  yfdf = yf.download(ticker, start=sdate, end=edate)\n",
        "  #yfdf = yf.download('gbtc', start=\"2021-01-01\", end=\"2021-01-01\")\n",
        "  #print(yfdf)\n",
        "  mydf = pd.DataFrame(yfdf)\n",
        "  \n",
        "\n",
        "  #yfdf.actions.to_csv('D:\\\\py\\\\pycode\\\\banas-tut01\\\\' + ticker + '.csv')\n",
        "  #csvresult = mydf.to_csv('D:\\\\py\\\\pycode\\\\banas-tut01\\\\' + ticker + '.csv')\n",
        "  #csvResult = df.to_csv(\"d:\\\\gbtc.csv\")\n",
        "  mydf.to_csv('d:/' + ticker + '.csv')\n",
        "  #csvresult = mydf.to_csv('gbtc.csv')\n",
        "  \n",
        "  return mydf"
      ]
    },
    {
      "cell_type": "code",
      "execution_count": null,
      "metadata": {
        "colab": {
          "base_uri": "https://localhost:8080/"
        },
        "id": "pxjNlDwwmBDT",
        "outputId": "16962a99-8df4-4b5e-f08e-3f036d94578a"
      },
      "outputs": [],
      "source": [
        " #save_to_csv_from_yahoo(\"gbtc\", \"2021-01-01\", \"2021-11-03\")"
      ]
    },
    {
      "cell_type": "markdown",
      "metadata": {},
      "source": [
        "# **Get data from CSV**"
      ]
    },
    {
      "cell_type": "code",
      "execution_count": 11,
      "metadata": {},
      "outputs": [],
      "source": [
        "def get_df_from_csv(ticker):\n",
        "    try:\n",
        "        df = pd.read_csv('d:/' + ticker + '.csv')\n",
        "    except FileNotFoundError:\n",
        "        print(\"File not found\")\n",
        "    else:\n",
        "        return df\n"
      ]
    },
    {
      "cell_type": "markdown",
      "metadata": {},
      "source": [
        "# **Add daily return to DF**"
      ]
    },
    {
      "cell_type": "code",
      "execution_count": 16,
      "metadata": {},
      "outputs": [],
      "source": [
        "# simple daily return: (Ending Prid - Beginning Price)/Beginning Price or (EP/BP)-1\n",
        "\n",
        "def add_daily_return_to_df(df,ticker):\n",
        "    df['Daily_Return'] = (df['Adj Close'] / df['Adj Close'].shift(1)) - 1\n",
        "    df.to_csv('d:/' + ticker + '.csv')\n",
        "    return df\n"
      ]
    },
    {
      "cell_type": "markdown",
      "metadata": {},
      "source": [
        "# **Returns Total Return over Time**"
      ]
    },
    {
      "cell_type": "code",
      "execution_count": 15,
      "metadata": {},
      "outputs": [],
      "source": [
        "def get_return_defined_time(df, syear, smonth, sday, eyear, emonth, eday):\n",
        "    start = f\"{syear}-{smonth}-{sday}\"\n",
        "    end = f\"{eyear}-{emonth}-{eday}\"\n",
        "    mask = (df['Date'] >= start) & (df['Date'] <= end)\n",
        "    daily_ret = df.loc[mask]['Daily_Return'].mean()\n",
        "    df2 = df.loc[mask]\n",
        "    days = df2.shape[0]\n",
        "    return (days * daily_ret)"
      ]
    },
    {
      "cell_type": "markdown",
      "metadata": {},
      "source": [
        "# **Matplotlib Finance**"
      ]
    },
    {
      "cell_type": "code",
      "execution_count": null,
      "metadata": {},
      "outputs": [],
      "source": [
        "def mplfinance_plot(ticker, chart_type, syear, smonth, sday, eyear, emonth, eday):\n",
        "    start = f\"{syear}-{smonth}-{sday}\"\n",
        "    end = f\"{eyear}-{emonth}-{eday}\"\n",
        "    try:\n",
        "        df = pd.read_csv('d:/' + ticker + '.csv')\n",
        "    except FileNotFoundError:\n",
        "        print(\"File not found\")\n",
        "    else:"
      ]
    },
    {
      "cell_type": "markdown",
      "metadata": {},
      "source": [
        "# **Test Functions**"
      ]
    },
    {
      "cell_type": "code",
      "execution_count": 17,
      "metadata": {},
      "outputs": [
        {
          "name": "stdout",
          "output_type": "stream",
          "text": [
            "Total Return : 0.2611085404296556\n"
          ]
        }
      ],
      "source": [
        "GBTC = get_df_from_csv(\"GBTC\")\n",
        "\n",
        "add_daily_return_to_df(GBTC,\"GBTC\")\n",
        "\n",
        "#GBTC\n",
        "\n",
        "tot_ret = get_return_defined_time(GBTC, 2020, 1, 1, 2021, 1, 1)\n",
        "print(\"Total Return :\", tot_ret)"
      ]
    },
    {
      "cell_type": "code",
      "execution_count": null,
      "metadata": {},
      "outputs": [],
      "source": []
    }
  ],
  "metadata": {
    "colab": {
      "collapsed_sections": [],
      "name": "dbanas-tut01.ipynb",
      "provenance": []
    },
    "interpreter": {
      "hash": "45e2c4e5dfc159d342ce7dba2130c7b213f9862d90bf377a920f00941f0ce223"
    },
    "kernelspec": {
      "display_name": "Python 3.8.1 64-bit ('venv': venv)",
      "name": "python3"
    },
    "language_info": {
      "codemirror_mode": {
        "name": "ipython",
        "version": 3
      },
      "file_extension": ".py",
      "mimetype": "text/x-python",
      "name": "python",
      "nbconvert_exporter": "python",
      "pygments_lexer": "ipython3",
      "version": "3.8.1"
    }
  },
  "nbformat": 4,
  "nbformat_minor": 0
}
