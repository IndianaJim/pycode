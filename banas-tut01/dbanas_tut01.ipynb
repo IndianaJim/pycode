{
  "cells": [
    {
      "cell_type": "code",
      "execution_count": 44,
      "metadata": {
        "id": "5sAGXWxkoX6v"
      },
      "outputs": [],
      "source": [
        "import numpy as np\n",
        "import pandas as pd\n",
        "from pandas_datareader import data as web\n",
        "import matplotlib.pyplot as plt\n",
        "import matplotlib.dates as mdates\n",
        "%matplotlib inline\n",
        "import datetime as dt\n",
        "import mplfinance as mpf\n",
        "import yfinance as yf"
      ]
    },
    {
      "cell_type": "code",
      "execution_count": 37,
      "metadata": {
        "id": "f3jTpIUpVjX3"
      },
      "outputs": [
        {
          "name": "stdout",
          "output_type": "stream",
          "text": [
            "Requirement already satisfied: mplfinance in d:\\py\\venv\\lib\\site-packages (0.12.7a17)\n",
            "Requirement already satisfied: matplotlib in d:\\py\\venv\\lib\\site-packages (from mplfinance) (3.4.2)\n",
            "Requirement already satisfied: pandas in d:\\py\\venv\\lib\\site-packages (from mplfinance) (1.2.2)\n",
            "Requirement already satisfied: pyparsing>=2.2.1 in d:\\py\\venv\\lib\\site-packages (from matplotlib->mplfinance) (2.4.7)\n",
            "Requirement already satisfied: python-dateutil>=2.7 in d:\\py\\venv\\lib\\site-packages (from matplotlib->mplfinance) (2.8.1)\n",
            "Requirement already satisfied: kiwisolver>=1.0.1 in d:\\py\\venv\\lib\\site-packages (from matplotlib->mplfinance) (1.3.1)\n",
            "Requirement already satisfied: cycler>=0.10 in d:\\py\\venv\\lib\\site-packages (from matplotlib->mplfinance) (0.10.0)\n",
            "Requirement already satisfied: numpy>=1.16 in d:\\py\\venv\\lib\\site-packages (from matplotlib->mplfinance) (1.19.5)\n",
            "Requirement already satisfied: pillow>=6.2.0 in d:\\py\\venv\\lib\\site-packages (from matplotlib->mplfinance) (8.1.0)\n",
            "Requirement already satisfied: six in d:\\py\\venv\\lib\\site-packages (from cycler>=0.10->matplotlib->mplfinance) (1.15.0)\n",
            "Requirement already satisfied: pytz>=2017.3 in d:\\py\\venv\\lib\\site-packages (from pandas->mplfinance) (2021.1)\n",
            "Note: you may need to restart the kernel to use updated packages.\n"
          ]
        },
        {
          "name": "stderr",
          "output_type": "stream",
          "text": [
            "WARNING: You are using pip version 21.2.3; however, version 21.3.1 is available.\n",
            "You should consider upgrading via the 'd:\\py\\venv\\scripts\\python.exe -m pip install --upgrade pip' command.\n"
          ]
        },
        {
          "name": "stdout",
          "output_type": "stream",
          "text": [
            "Collecting mpf\n",
            "  Downloading mpf-0.55.0.tar.gz (1.1 MB)\n",
            "Collecting ruamel.yaml==0.15.100\n",
            "  Downloading ruamel.yaml-0.15.100.tar.gz (318 kB)\n",
            "Collecting pyserial==3.5\n",
            "  Downloading pyserial-3.5-py2.py3-none-any.whl (90 kB)\n",
            "Requirement already satisfied: sortedcontainers==2.3.0 in d:\\py\\venv\\lib\\site-packages (from mpf) (2.3.0)\n",
            "Collecting psutil==5.7.3\n",
            "  Downloading psutil-5.7.3-cp38-cp38-win_amd64.whl (243 kB)\n",
            "Collecting pyserial-asyncio==0.4\n",
            "  Downloading pyserial_asyncio-0.4-py3-none-any.whl (7.1 kB)\n",
            "Building wheels for collected packages: mpf, ruamel.yaml\n",
            "  Building wheel for mpf (setup.py): started\n",
            "  Building wheel for mpf (setup.py): finished with status 'done'\n",
            "  Created wheel for mpf: filename=mpf-0.55.0-cp34-none-any.whl size=1451518 sha256=b8e7af438d6cd3f06f81f5f8d0d3f31674ed1bacaaf05d819f0d2ddb44f43636\n",
            "  Stored in directory: c:\\users\\runji\\appdata\\local\\pip\\cache\\wheels\\2c\\94\\8c\\494aa8275ac668aa50d41846d2e7e63895135be02413126053\n",
            "  Building wheel for ruamel.yaml (setup.py): started\n",
            "  Building wheel for ruamel.yaml (setup.py): finished with status 'done'\n",
            "  Created wheel for ruamel.yaml: filename=ruamel.yaml-0.15.100-cp38-cp38-win_amd64.whl size=232499 sha256=063a82291f2b863b88f2775b5c1b1c813d5d5bfc6219b78b88df64b87111980f\n",
            "  Stored in directory: c:\\users\\runji\\appdata\\local\\pip\\cache\\wheels\\83\\bb\\c8\\84a46029883fd202fda2e3d0a579eb30641fecb325b9907fb0\n",
            "Successfully built mpf ruamel.yaml\n",
            "Installing collected packages: pyserial, ruamel.yaml, pyserial-asyncio, psutil, mpf\n",
            "Successfully installed mpf-0.55.0 psutil-5.7.3 pyserial-3.5 pyserial-asyncio-0.4 ruamel.yaml-0.15.100\n"
          ]
        },
        {
          "name": "stderr",
          "output_type": "stream",
          "text": [
            "WARNING: You are using pip version 21.2.3; however, version 21.3.1 is available.\n",
            "You should consider upgrading via the 'd:\\py\\venv\\scripts\\python.exe -m pip install --upgrade pip' command.\n"
          ]
        }
      ],
      "source": [
        "pip install mplfinance"
      ]
    },
    {
      "cell_type": "markdown",
      "metadata": {
        "id": "XZkz5CaPkKor"
      },
      "source": [
        "# **Function to save stock data to CSV**\n"
      ]
    },
    {
      "cell_type": "code",
      "execution_count": 45,
      "metadata": {
        "id": "IUxA9RkskGBd"
      },
      "outputs": [],
      "source": [
        "def save_to_csv_from_yahoo(ticker, sdate, edate):\n",
        "  #start = dt.datetime(sdate)\n",
        "  #end = dt.datetime(edate)\n",
        "\n",
        "  #tickerData = yf.Ticker(ticker)\n",
        "  \n",
        "  # get historical market data\n",
        "  #df = tickerData.history(period=\"max\")\n",
        "  yfdf = yf.download(ticker, start=sdate, end=edate)\n",
        "  #yfdf = yf.download('gbtc', start=\"2021-01-01\", end=\"2021-01-01\")\n",
        "  #print(yfdf)\n",
        "  mydf = pd.DataFrame(yfdf)\n",
        "  \n",
        "\n",
        "  #yfdf.actions.to_csv('D:\\\\py\\\\pycode\\\\banas-tut01\\\\' + ticker + '.csv')\n",
        "  #csvresult = mydf.to_csv('D:\\\\py\\\\pycode\\\\banas-tut01\\\\' + ticker + '.csv')\n",
        "  #csvResult = df.to_csv(\"d:\\\\gbtc.csv\")\n",
        "  mydf.to_csv('d:/' + ticker + '.csv')\n",
        "  #csvresult = mydf.to_csv('gbtc.csv')\n",
        "  \n",
        "  return mydf"
      ]
    },
    {
      "cell_type": "code",
      "execution_count": 39,
      "metadata": {
        "colab": {
          "base_uri": "https://localhost:8080/"
        },
        "id": "pxjNlDwwmBDT",
        "outputId": "16962a99-8df4-4b5e-f08e-3f036d94578a"
      },
      "outputs": [
        {
          "name": "stdout",
          "output_type": "stream",
          "text": [
            "[*********************100%***********************]  1 of 1 completed\n"
          ]
        },
        {
          "data": {
            "text/html": [
              "<div>\n",
              "<style scoped>\n",
              "    .dataframe tbody tr th:only-of-type {\n",
              "        vertical-align: middle;\n",
              "    }\n",
              "\n",
              "    .dataframe tbody tr th {\n",
              "        vertical-align: top;\n",
              "    }\n",
              "\n",
              "    .dataframe thead th {\n",
              "        text-align: right;\n",
              "    }\n",
              "</style>\n",
              "<table border=\"1\" class=\"dataframe\">\n",
              "  <thead>\n",
              "    <tr style=\"text-align: right;\">\n",
              "      <th></th>\n",
              "      <th>Open</th>\n",
              "      <th>High</th>\n",
              "      <th>Low</th>\n",
              "      <th>Close</th>\n",
              "      <th>Adj Close</th>\n",
              "      <th>Volume</th>\n",
              "    </tr>\n",
              "    <tr>\n",
              "      <th>Date</th>\n",
              "      <th></th>\n",
              "      <th></th>\n",
              "      <th></th>\n",
              "      <th></th>\n",
              "      <th></th>\n",
              "      <th></th>\n",
              "    </tr>\n",
              "  </thead>\n",
              "  <tbody>\n",
              "    <tr>\n",
              "      <th>2021-01-04</th>\n",
              "      <td>34.090000</td>\n",
              "      <td>36.599998</td>\n",
              "      <td>32.900002</td>\n",
              "      <td>35.080002</td>\n",
              "      <td>35.080002</td>\n",
              "      <td>22817800</td>\n",
              "    </tr>\n",
              "    <tr>\n",
              "      <th>2021-01-05</th>\n",
              "      <td>34.490002</td>\n",
              "      <td>39.540001</td>\n",
              "      <td>34.490002</td>\n",
              "      <td>39.410000</td>\n",
              "      <td>39.410000</td>\n",
              "      <td>19229000</td>\n",
              "    </tr>\n",
              "    <tr>\n",
              "      <th>2021-01-06</th>\n",
              "      <td>41.419998</td>\n",
              "      <td>44.000000</td>\n",
              "      <td>39.750000</td>\n",
              "      <td>43.930000</td>\n",
              "      <td>43.930000</td>\n",
              "      <td>40502900</td>\n",
              "    </tr>\n",
              "    <tr>\n",
              "      <th>2021-01-07</th>\n",
              "      <td>47.700001</td>\n",
              "      <td>48.410000</td>\n",
              "      <td>40.810001</td>\n",
              "      <td>44.970001</td>\n",
              "      <td>44.970001</td>\n",
              "      <td>32619300</td>\n",
              "    </tr>\n",
              "    <tr>\n",
              "      <th>2021-01-08</th>\n",
              "      <td>47.849998</td>\n",
              "      <td>48.650002</td>\n",
              "      <td>44.360001</td>\n",
              "      <td>44.419998</td>\n",
              "      <td>44.419998</td>\n",
              "      <td>23125700</td>\n",
              "    </tr>\n",
              "    <tr>\n",
              "      <th>...</th>\n",
              "      <td>...</td>\n",
              "      <td>...</td>\n",
              "      <td>...</td>\n",
              "      <td>...</td>\n",
              "      <td>...</td>\n",
              "      <td>...</td>\n",
              "    </tr>\n",
              "    <tr>\n",
              "      <th>2021-11-22</th>\n",
              "      <td>47.400002</td>\n",
              "      <td>47.400002</td>\n",
              "      <td>45.049999</td>\n",
              "      <td>45.150002</td>\n",
              "      <td>45.150002</td>\n",
              "      <td>4457200</td>\n",
              "    </tr>\n",
              "    <tr>\n",
              "      <th>2021-11-23</th>\n",
              "      <td>45.959999</td>\n",
              "      <td>47.000000</td>\n",
              "      <td>45.700001</td>\n",
              "      <td>46.880001</td>\n",
              "      <td>46.880001</td>\n",
              "      <td>3650200</td>\n",
              "    </tr>\n",
              "    <tr>\n",
              "      <th>2021-11-24</th>\n",
              "      <td>45.630001</td>\n",
              "      <td>47.709999</td>\n",
              "      <td>45.150002</td>\n",
              "      <td>46.419998</td>\n",
              "      <td>46.419998</td>\n",
              "      <td>3057300</td>\n",
              "    </tr>\n",
              "    <tr>\n",
              "      <th>2021-11-26</th>\n",
              "      <td>44.279999</td>\n",
              "      <td>44.720001</td>\n",
              "      <td>43.709999</td>\n",
              "      <td>44.330002</td>\n",
              "      <td>44.330002</td>\n",
              "      <td>4545900</td>\n",
              "    </tr>\n",
              "    <tr>\n",
              "      <th>2021-11-29</th>\n",
              "      <td>46.485001</td>\n",
              "      <td>47.790001</td>\n",
              "      <td>46.000000</td>\n",
              "      <td>47.180000</td>\n",
              "      <td>47.180000</td>\n",
              "      <td>4644600</td>\n",
              "    </tr>\n",
              "  </tbody>\n",
              "</table>\n",
              "<p>229 rows × 6 columns</p>\n",
              "</div>"
            ],
            "text/plain": [
              "                 Open       High        Low      Close  Adj Close    Volume\n",
              "Date                                                                       \n",
              "2021-01-04  34.090000  36.599998  32.900002  35.080002  35.080002  22817800\n",
              "2021-01-05  34.490002  39.540001  34.490002  39.410000  39.410000  19229000\n",
              "2021-01-06  41.419998  44.000000  39.750000  43.930000  43.930000  40502900\n",
              "2021-01-07  47.700001  48.410000  40.810001  44.970001  44.970001  32619300\n",
              "2021-01-08  47.849998  48.650002  44.360001  44.419998  44.419998  23125700\n",
              "...               ...        ...        ...        ...        ...       ...\n",
              "2021-11-22  47.400002  47.400002  45.049999  45.150002  45.150002   4457200\n",
              "2021-11-23  45.959999  47.000000  45.700001  46.880001  46.880001   3650200\n",
              "2021-11-24  45.630001  47.709999  45.150002  46.419998  46.419998   3057300\n",
              "2021-11-26  44.279999  44.720001  43.709999  44.330002  44.330002   4545900\n",
              "2021-11-29  46.485001  47.790001  46.000000  47.180000  47.180000   4644600\n",
              "\n",
              "[229 rows x 6 columns]"
            ]
          },
          "execution_count": 39,
          "metadata": {},
          "output_type": "execute_result"
        }
      ],
      "source": [
        " save_to_csv_from_yahoo(\"gbtc\", \"2021-01-01\", \"2021-11-30\")"
      ]
    },
    {
      "cell_type": "markdown",
      "metadata": {},
      "source": [
        "# **Get data from CSV**"
      ]
    },
    {
      "cell_type": "code",
      "execution_count": 82,
      "metadata": {},
      "outputs": [],
      "source": [
        "def get_df_from_csv(ticker):\n",
        "    try:\n",
        "        df = pd.read_csv('d:/' + ticker + '.csv')\n",
        "    except FileNotFoundError:\n",
        "        print(\"File not found\")\n",
        "    else:\n",
        "        return df\n"
      ]
    },
    {
      "cell_type": "markdown",
      "metadata": {},
      "source": [
        "# **Add daily return to DF**"
      ]
    },
    {
      "cell_type": "code",
      "execution_count": 47,
      "metadata": {},
      "outputs": [],
      "source": [
        "# simple daily return: (Ending Prid - Beginning Price)/Beginning Price or (EP/BP)-1\n",
        "\n",
        "def add_daily_return_to_df(df,ticker):\n",
        "    df['Daily_Return'] = (df['Adj Close'] / df['Adj Close'].shift(1)) - 1\n",
        "    df.to_csv('d:/' + ticker + '.csv')\n",
        "    return df\n"
      ]
    },
    {
      "cell_type": "markdown",
      "metadata": {},
      "source": [
        "# **Returns Total Return over Time**"
      ]
    },
    {
      "cell_type": "code",
      "execution_count": 71,
      "metadata": {},
      "outputs": [],
      "source": [
        "def get_return_defined_time(df, syear, smonth, sday, eyear, emonth, eday):\n",
        "    # Create string representations for the dates\n",
        "    start = f\"{syear}-{smonth}-{sday}\"\n",
        "    end = f\"{eyear}-{emonth}-{eday}\"\n",
        "    df['Date'] = pd.to_datetime(df['Date'])\n",
        "    \n",
        "    # Use a mask to grab data between defined dates\n",
        "    mask = (df['Date'] >= start) & (df['Date'] <= end)\n",
        "    \n",
        "    # Get the mean of the column named daily return\n",
        "    daily_ret = df.loc[mask]['Daily_Return'].mean()\n",
        "    \n",
        "    # Get the number of days between 2 dates\n",
        "    df2 = df.loc[mask]\n",
        "    days = df2.shape[0]\n",
        "\n",
        "    # Return the total return between 2 dates\n",
        "    return (days * daily_ret)"
      ]
    },
    {
      "cell_type": "markdown",
      "metadata": {},
      "source": [
        "# **Matplotlib Finance**"
      ]
    },
    {
      "cell_type": "code",
      "execution_count": 80,
      "metadata": {},
      "outputs": [],
      "source": [
        "# Receives a ticker and the date range for which to plot\n",
        "def mplfinance_plot(ticker, chart_type, syear, smonth, sday, eyear, emonth, eday):\n",
        "    # Create string representations for the dates\n",
        "    start = f\"{syear}-{smonth}-{sday}\"\n",
        "    end = f\"{eyear}-{emonth}-{eday}\"\n",
        "    \n",
        "    try:\n",
        "        # For Windows\n",
        "        df = pd.read_csv('d:/' + ticker + '.csv',index_col=0,parse_dates=True)\n",
        "        #df = pd.read_csv('d:/' + ticker + '.csv')\n",
        "        # For MacOS\n",
        "        #df = pd.read_csv('d:/' + ticker + '.csv',index_col=0,parse_dates=True)\n",
        "    except FileNotFoundError:\n",
        "        print(\"File Doesn't Exist\")\n",
        "    else:\n",
        "        print(\"Jim\")\n",
        "        # Set data.index as DatetimeIndex\n",
        "        #df.index = pd.DatetimeIndex(df['Date'])\n",
        "        \n",
        "        # Define to only use data between provided dates\n",
        "        #df_sub = df.loc[start:end]\n",
        "        \n",
        "        # A candlestick chart demonstrates the daily open, high, low and closing price of a stock\n",
        "        #mpf.plot(df_sub,type='candle')\n",
        "\n",
        "        # Plot price changes\n",
        "        #mpf.plot(df_sub,type='line')\n",
        "\n",
        "        # Moving averages provide trend information (Average of previous 4 observations)\n",
        "        #mpf.plot(df_sub,type='ohlc',mav=4)\n",
        "        \n",
        "        # Define a built in style\n",
        "        #s = mpf.make_mpf_style(base_mpf_style='charles', rc={'font.size': 8})\n",
        "        # Pass in the defined style to the whole canvas\n",
        "        #fig = mpf.figure(figsize=(12, 8), style=s) \n",
        "        # Candle stick chart subplot\n",
        "        #ax = fig.add_subplot(2,1,1) \n",
        "        # Volume chart subplot\n",
        "        #av = fig.add_subplot(2,1,2, sharex=ax)  \n",
        "\n",
        "        # You can plot multiple MAVs, volume, non-trading days\n",
        "        #mpf.plot(df_sub,type=chart_type, mav=(3,5,7), ax=ax, volume=av, show_nontrading=True)"
      ]
    },
    {
      "cell_type": "markdown",
      "metadata": {},
      "source": [
        "# **Test Functions**"
      ]
    },
    {
      "cell_type": "code",
      "execution_count": 83,
      "metadata": {},
      "outputs": [
        {
          "name": "stdout",
          "output_type": "stream",
          "text": [
            "     Unnamed: 0        Date       Open       High        Low      Close  \\\n",
            "0             0    1/4/2021  34.090000  36.599998  32.900002  35.080002   \n",
            "1             1    1/5/2021  34.490002  39.540001  34.490002  39.410000   \n",
            "2             2    1/6/2021  41.419998  44.000000  39.750000  43.930000   \n",
            "3             3    1/7/2021  47.700001  48.410000  40.810001  44.970001   \n",
            "4             4    1/8/2021  47.849998  48.650002  44.360001  44.419998   \n",
            "..          ...         ...        ...        ...        ...        ...   \n",
            "224         224  11/22/2021  47.400002  47.400002  45.049999  45.150002   \n",
            "225         225  11/23/2021  45.959999  47.000000  45.700001  46.880001   \n",
            "226         226  11/24/2021  45.630001  47.709999  45.150002  46.419998   \n",
            "227         227  11/26/2021  44.279999  44.720001  43.709999  44.330002   \n",
            "228         228  11/29/2021  46.485001  47.790001  46.000000  47.180000   \n",
            "\n",
            "     Adj Close    Volume  Daily_Return  \n",
            "0    35.080002  22817800      0.100000  \n",
            "1    39.410000  19229000      0.123432  \n",
            "2    43.930000  40502900      0.114692  \n",
            "3    44.970001  32619300      0.023674  \n",
            "4    44.419998  23125700     -0.012230  \n",
            "..         ...       ...           ...  \n",
            "224  45.150002   4457200     -0.042215  \n",
            "225  46.880001   3650200      0.038317  \n",
            "226  46.419998   3057300     -0.009812  \n",
            "227  44.330002   4545900     -0.045024  \n",
            "228  47.180000   4644600      0.064291  \n",
            "\n",
            "[229 rows x 9 columns]\n",
            "Total Return : 0.758227863\n"
          ]
        }
      ],
      "source": [
        "GBTC = get_df_from_csv(\"GBTC\")\n",
        "\n",
        "#add_daily_return_to_df(GBTC,\"GBTC\")\n",
        "\n",
        "print(GBTC)\n",
        "\n",
        "tot_ret = get_return_defined_time(GBTC, 2021, 1, 1, 2021, 11, 1)\n",
        "print(\"Total Return :\", tot_ret)\n",
        "\n",
        "#mplfinance_plot(GBTC, 'ohlc', 2021, 1, 1, 2021, 12, 1)"
      ]
    },
    {
      "cell_type": "code",
      "execution_count": null,
      "metadata": {},
      "outputs": [],
      "source": []
    }
  ],
  "metadata": {
    "colab": {
      "collapsed_sections": [],
      "name": "dbanas-tut01.ipynb",
      "provenance": []
    },
    "interpreter": {
      "hash": "45e2c4e5dfc159d342ce7dba2130c7b213f9862d90bf377a920f00941f0ce223"
    },
    "kernelspec": {
      "display_name": "Python 3.8.1 64-bit ('venv': venv)",
      "name": "python3"
    },
    "language_info": {
      "codemirror_mode": {
        "name": "ipython",
        "version": 3
      },
      "file_extension": ".py",
      "mimetype": "text/x-python",
      "name": "python",
      "nbconvert_exporter": "python",
      "pygments_lexer": "ipython3",
      "version": "3.8.1"
    }
  },
  "nbformat": 4,
  "nbformat_minor": 0
}
