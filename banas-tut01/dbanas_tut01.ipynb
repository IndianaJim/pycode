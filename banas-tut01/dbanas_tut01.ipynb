{
  "nbformat": 4,
  "nbformat_minor": 0,
  "metadata": {
    "colab": {
      "name": "dbanas-tut01.ipynb",
      "provenance": [],
      "collapsed_sections": []
    },
    "kernelspec": {
      "name": "python3",
      "display_name": "Python 3"
    },
    "language_info": {
      "name": "python"
    }
  },
  "cells": [
    {
      "cell_type": "code",
      "metadata": {
        "id": "5sAGXWxkoX6v"
      },
      "source": [
        "import numpy as np\n",
        "import pandas as pd\n",
        "from pandas_datareader import data as web\n",
        "import matplotlib.pyplot as plt\n",
        "import matplotlib.dates as mdates\n",
        "%matplotlib inline\n",
        "import datetime as dt\n",
        "import mplfinance as mpf\n",
        "import yfinance as yf"
      ],
      "execution_count": 24,
      "outputs": []
    },
    {
      "cell_type": "markdown",
      "metadata": {
        "id": "XZkz5CaPkKor"
      },
      "source": [
        "# **Function to save stock data to CSV**\n"
      ]
    },
    {
      "cell_type": "code",
      "metadata": {
        "id": "IUxA9RkskGBd"
      },
      "source": [
        "def save_to_csv_from_yahoo(ticker, sdate, edate):\n",
        "  #start = dt.datetime(sdate)\n",
        "  #end = dt.datetime(edate)\n",
        "\n",
        "  #tickerData = yf.Ticker(ticker)\n",
        "  \n",
        "  # get historical market data\n",
        "  #df = tickerData.history(period=\"max\")\n",
        "  df = yf.download(ticker, start=sdate, end=edate)\n",
        "\n",
        "  df.to_csv(\"D:\\\\py\\\\pycode\\\\banas-tut01\\\\\" + ticker + \".csv\")\n",
        "  return df"
      ],
      "execution_count": 37,
      "outputs": []
    },
    {
      "cell_type": "code",
      "metadata": {
        "colab": {
          "base_uri": "https://localhost:8080/",
          "height": 456
        },
        "id": "pxjNlDwwmBDT",
        "outputId": "c39e8110-c4ee-489a-ec39-b3ab8e6842e5"
      },
      "source": [
        " save_to_csv_from_yahoo(\"gbtc\", \"2021-01-01\", \"2021-11-03\")"
      ],
      "execution_count": 38,
      "outputs": [
        {
          "output_type": "stream",
          "name": "stdout",
          "text": [
            "\r[*********************100%***********************]  1 of 1 completed\n"
          ]
        },
        {
          "output_type": "execute_result",
          "data": {
            "text/html": [
              "<div>\n",
              "<style scoped>\n",
              "    .dataframe tbody tr th:only-of-type {\n",
              "        vertical-align: middle;\n",
              "    }\n",
              "\n",
              "    .dataframe tbody tr th {\n",
              "        vertical-align: top;\n",
              "    }\n",
              "\n",
              "    .dataframe thead th {\n",
              "        text-align: right;\n",
              "    }\n",
              "</style>\n",
              "<table border=\"1\" class=\"dataframe\">\n",
              "  <thead>\n",
              "    <tr style=\"text-align: right;\">\n",
              "      <th></th>\n",
              "      <th>Open</th>\n",
              "      <th>High</th>\n",
              "      <th>Low</th>\n",
              "      <th>Close</th>\n",
              "      <th>Adj Close</th>\n",
              "      <th>Volume</th>\n",
              "    </tr>\n",
              "    <tr>\n",
              "      <th>Date</th>\n",
              "      <th></th>\n",
              "      <th></th>\n",
              "      <th></th>\n",
              "      <th></th>\n",
              "      <th></th>\n",
              "      <th></th>\n",
              "    </tr>\n",
              "  </thead>\n",
              "  <tbody>\n",
              "    <tr>\n",
              "      <th>2021-01-04</th>\n",
              "      <td>34.090000</td>\n",
              "      <td>36.599998</td>\n",
              "      <td>32.900002</td>\n",
              "      <td>35.080002</td>\n",
              "      <td>35.080002</td>\n",
              "      <td>22817800</td>\n",
              "    </tr>\n",
              "    <tr>\n",
              "      <th>2021-01-05</th>\n",
              "      <td>34.490002</td>\n",
              "      <td>39.540001</td>\n",
              "      <td>34.490002</td>\n",
              "      <td>39.410000</td>\n",
              "      <td>39.410000</td>\n",
              "      <td>19229000</td>\n",
              "    </tr>\n",
              "    <tr>\n",
              "      <th>2021-01-06</th>\n",
              "      <td>41.419998</td>\n",
              "      <td>44.000000</td>\n",
              "      <td>39.750000</td>\n",
              "      <td>43.930000</td>\n",
              "      <td>43.930000</td>\n",
              "      <td>40502900</td>\n",
              "    </tr>\n",
              "    <tr>\n",
              "      <th>2021-01-07</th>\n",
              "      <td>47.700001</td>\n",
              "      <td>48.410000</td>\n",
              "      <td>40.810001</td>\n",
              "      <td>44.970001</td>\n",
              "      <td>44.970001</td>\n",
              "      <td>32619300</td>\n",
              "    </tr>\n",
              "    <tr>\n",
              "      <th>2021-01-08</th>\n",
              "      <td>47.849998</td>\n",
              "      <td>48.650002</td>\n",
              "      <td>44.360001</td>\n",
              "      <td>44.419998</td>\n",
              "      <td>44.419998</td>\n",
              "      <td>23125700</td>\n",
              "    </tr>\n",
              "    <tr>\n",
              "      <th>...</th>\n",
              "      <td>...</td>\n",
              "      <td>...</td>\n",
              "      <td>...</td>\n",
              "      <td>...</td>\n",
              "      <td>...</td>\n",
              "      <td>...</td>\n",
              "    </tr>\n",
              "    <tr>\n",
              "      <th>2021-10-27</th>\n",
              "      <td>46.669998</td>\n",
              "      <td>47.720001</td>\n",
              "      <td>46.169998</td>\n",
              "      <td>46.700001</td>\n",
              "      <td>46.700001</td>\n",
              "      <td>8355200</td>\n",
              "    </tr>\n",
              "    <tr>\n",
              "      <th>2021-10-28</th>\n",
              "      <td>48.700001</td>\n",
              "      <td>49.000000</td>\n",
              "      <td>46.320000</td>\n",
              "      <td>48.685001</td>\n",
              "      <td>48.685001</td>\n",
              "      <td>5163600</td>\n",
              "    </tr>\n",
              "    <tr>\n",
              "      <th>2021-10-29</th>\n",
              "      <td>48.560001</td>\n",
              "      <td>50.000000</td>\n",
              "      <td>48.230000</td>\n",
              "      <td>49.689999</td>\n",
              "      <td>49.689999</td>\n",
              "      <td>4692100</td>\n",
              "    </tr>\n",
              "    <tr>\n",
              "      <th>2021-11-01</th>\n",
              "      <td>49.279999</td>\n",
              "      <td>49.540001</td>\n",
              "      <td>48.590000</td>\n",
              "      <td>49.240002</td>\n",
              "      <td>49.240002</td>\n",
              "      <td>4111100</td>\n",
              "    </tr>\n",
              "    <tr>\n",
              "      <th>2021-11-02</th>\n",
              "      <td>50.630001</td>\n",
              "      <td>51.000000</td>\n",
              "      <td>50.060001</td>\n",
              "      <td>50.459999</td>\n",
              "      <td>50.459999</td>\n",
              "      <td>7164200</td>\n",
              "    </tr>\n",
              "  </tbody>\n",
              "</table>\n",
              "<p>211 rows × 6 columns</p>\n",
              "</div>"
            ],
            "text/plain": [
              "                 Open       High        Low      Close  Adj Close    Volume\n",
              "Date                                                                       \n",
              "2021-01-04  34.090000  36.599998  32.900002  35.080002  35.080002  22817800\n",
              "2021-01-05  34.490002  39.540001  34.490002  39.410000  39.410000  19229000\n",
              "2021-01-06  41.419998  44.000000  39.750000  43.930000  43.930000  40502900\n",
              "2021-01-07  47.700001  48.410000  40.810001  44.970001  44.970001  32619300\n",
              "2021-01-08  47.849998  48.650002  44.360001  44.419998  44.419998  23125700\n",
              "...               ...        ...        ...        ...        ...       ...\n",
              "2021-10-27  46.669998  47.720001  46.169998  46.700001  46.700001   8355200\n",
              "2021-10-28  48.700001  49.000000  46.320000  48.685001  48.685001   5163600\n",
              "2021-10-29  48.560001  50.000000  48.230000  49.689999  49.689999   4692100\n",
              "2021-11-01  49.279999  49.540001  48.590000  49.240002  49.240002   4111100\n",
              "2021-11-02  50.630001  51.000000  50.060001  50.459999  50.459999   7164200\n",
              "\n",
              "[211 rows x 6 columns]"
            ]
          },
          "metadata": {},
          "execution_count": 38
        }
      ]
    },
    {
      "cell_type": "code",
      "metadata": {
        "id": "MbvvKCnHrdAp"
      },
      "source": [
        "msft = yf.Ticker(\"MSFT\")\n",
        "\n",
        "# get stock info\n",
        "msft.info\n",
        "\n",
        "# get historical market data\n",
        "hist = msft.history(period=\"max\")"
      ],
      "execution_count": null,
      "outputs": []
    }
  ]
}