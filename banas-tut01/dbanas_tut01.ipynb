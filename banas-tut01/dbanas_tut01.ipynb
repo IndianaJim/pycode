{
  "cells": [
    {
      "cell_type": "code",
      "execution_count": 4,
      "metadata": {
        "id": "5sAGXWxkoX6v"
      },
      "outputs": [],
      "source": [
        "import numpy as np\n",
        "import pandas as pd\n",
        "from pandas_datareader import data as web\n",
        "import matplotlib.pyplot as plt\n",
        "import matplotlib.dates as mdates\n",
        "%matplotlib inline\n",
        "import datetime as dt\n",
        "import mplfinance as mpf\n",
        "import yfinance as yf"
      ]
    },
    {
      "cell_type": "code",
      "execution_count": 10,
      "metadata": {
        "id": "f3jTpIUpVjX3"
      },
      "outputs": [
        {
          "name": "stdout",
          "output_type": "stream",
          "text": [
            "Requirement already satisfied: yfinance in d:\\py\\venv\\lib\\site-packages (0.1.64)\n",
            "Requirement already satisfied: lxml>=4.5.1 in d:\\py\\venv\\lib\\site-packages (from yfinance) (4.6.2)\n",
            "Requirement already satisfied: requests>=2.20 in d:\\py\\venv\\lib\\site-packages (from yfinance) (2.25.1)\n",
            "Requirement already satisfied: numpy>=1.15 in d:\\py\\venv\\lib\\site-packages (from yfinance) (1.19.5)\n",
            "Requirement already satisfied: multitasking>=0.0.7 in d:\\py\\venv\\lib\\site-packages (from yfinance) (0.0.9)\n",
            "Requirement already satisfied: pandas>=0.24 in d:\\py\\venv\\lib\\site-packages (from yfinance) (1.2.2)\n",
            "Requirement already satisfied: pytz>=2017.3 in d:\\py\\venv\\lib\\site-packages (from pandas>=0.24->yfinance) (2021.1)\n",
            "Requirement already satisfied: python-dateutil>=2.7.3 in d:\\py\\venv\\lib\\site-packages (from pandas>=0.24->yfinance) (2.8.1)\n",
            "Requirement already satisfied: six>=1.5 in d:\\py\\venv\\lib\\site-packages (from python-dateutil>=2.7.3->pandas>=0.24->yfinance) (1.15.0)\n",
            "Requirement already satisfied: idna<3,>=2.5 in d:\\py\\venv\\lib\\site-packages (from requests>=2.20->yfinance) (2.10)\n",
            "Requirement already satisfied: certifi>=2017.4.17 in d:\\py\\venv\\lib\\site-packages (from requests>=2.20->yfinance) (2020.12.5)\n",
            "Requirement already satisfied: chardet<5,>=3.0.2 in d:\\py\\venv\\lib\\site-packages (from requests>=2.20->yfinance) (4.0.0)\n",
            "Requirement already satisfied: urllib3<1.27,>=1.21.1 in d:\\py\\venv\\lib\\site-packages (from requests>=2.20->yfinance) (1.26.3)\n",
            "Note: you may need to restart the kernel to use updated packages.\n"
          ]
        },
        {
          "name": "stderr",
          "output_type": "stream",
          "text": [
            "WARNING: You are using pip version 21.2.3; however, version 21.3.1 is available.\n",
            "You should consider upgrading via the 'd:\\py\\venv\\scripts\\python.exe -m pip install --upgrade pip' command.\n"
          ]
        }
      ],
      "source": [
        "#pip install yfinance"
      ]
    },
    {
      "cell_type": "markdown",
      "metadata": {
        "id": "XZkz5CaPkKor"
      },
      "source": [
        "# **Function to save stock data to CSV**\n"
      ]
    },
    {
      "cell_type": "code",
      "execution_count": 7,
      "metadata": {
        "id": "IUxA9RkskGBd"
      },
      "outputs": [],
      "source": [
        "def save_to_csv_from_yahoo(ticker, sdate, edate):\n",
        "  #start = dt.datetime(sdate)\n",
        "  #end = dt.datetime(edate)\n",
        "\n",
        "  #tickerData = yf.Ticker(ticker)\n",
        "  \n",
        "  # get historical market data\n",
        "  #df = tickerData.history(period=\"max\")\n",
        "  yfdf = yf.download(ticker, start=sdate, end=edate)\n",
        "  #yfdf = yf.download('gbtc', start=\"2021-01-01\", end=\"2021-01-01\")\n",
        "  #print(yfdf)\n",
        "  mydf = pd.DataFrame(yfdf)\n",
        "  \n",
        "\n",
        "  #yfdf.actions.to_csv('D:\\\\py\\\\pycode\\\\banas-tut01\\\\' + ticker + '.csv')\n",
        "  #csvresult = mydf.to_csv('D:\\\\py\\\\pycode\\\\banas-tut01\\\\' + ticker + '.csv')\n",
        "  #csvResult = df.to_csv(\"d:\\\\gbtc.csv\")\n",
        "  mydf.to_csv('d:/' + ticker + '.csv')\n",
        "  #csvresult = mydf.to_csv('gbtc.csv')\n",
        "  \n",
        "  return mydf"
      ]
    },
    {
      "cell_type": "code",
      "execution_count": null,
      "metadata": {
        "colab": {
          "base_uri": "https://localhost:8080/"
        },
        "id": "pxjNlDwwmBDT",
        "outputId": "16962a99-8df4-4b5e-f08e-3f036d94578a"
      },
      "outputs": [],
      "source": [
        " #save_to_csv_from_yahoo(\"gbtc\", \"2021-01-01\", \"2021-11-03\")"
      ]
    },
    {
      "cell_type": "markdown",
      "metadata": {},
      "source": [
        "# **Get data from CSV**"
      ]
    },
    {
      "cell_type": "code",
      "execution_count": 12,
      "metadata": {},
      "outputs": [],
      "source": [
        "def get_df_from_csv(ticker):\n",
        "    try:\n",
        "        df = pd.read_csv('d:/' + ticker + '.csv')\n",
        "    except FileNotFoundError:\n",
        "        print(\"File not found\")\n",
        "    else:\n",
        "        return df\n"
      ]
    },
    {
      "cell_type": "markdown",
      "metadata": {},
      "source": [
        "# **Add daily return to DF**"
      ]
    },
    {
      "cell_type": "code",
      "execution_count": 15,
      "metadata": {},
      "outputs": [],
      "source": [
        "# simple daily return: (Ending Prid - Beginning Price)/Beginning Price or (EP/BP)-1\n",
        "\n",
        "def add_daily_return_to_df(df,ticker):\n",
        "    df['Daily_Return'] = (df['Adj Close'] / df['Adj Close'].shift(1)) - 1\n",
        "    df.to_csv('d:/' + ticker + '.csv')\n",
        "    return df\n"
      ]
    },
    {
      "cell_type": "markdown",
      "metadata": {},
      "source": [
        "# **Test Functions**"
      ]
    },
    {
      "cell_type": "code",
      "execution_count": 16,
      "metadata": {},
      "outputs": [
        {
          "data": {
            "text/html": [
              "<div>\n",
              "<style scoped>\n",
              "    .dataframe tbody tr th:only-of-type {\n",
              "        vertical-align: middle;\n",
              "    }\n",
              "\n",
              "    .dataframe tbody tr th {\n",
              "        vertical-align: top;\n",
              "    }\n",
              "\n",
              "    .dataframe thead th {\n",
              "        text-align: right;\n",
              "    }\n",
              "</style>\n",
              "<table border=\"1\" class=\"dataframe\">\n",
              "  <thead>\n",
              "    <tr style=\"text-align: right;\">\n",
              "      <th></th>\n",
              "      <th>Date</th>\n",
              "      <th>Open</th>\n",
              "      <th>High</th>\n",
              "      <th>Low</th>\n",
              "      <th>Close</th>\n",
              "      <th>Adj Close</th>\n",
              "      <th>Volume</th>\n",
              "      <th>Daily_Return</th>\n",
              "    </tr>\n",
              "  </thead>\n",
              "  <tbody>\n",
              "    <tr>\n",
              "      <th>0</th>\n",
              "      <td>2021-01-04</td>\n",
              "      <td>34.090000</td>\n",
              "      <td>36.599998</td>\n",
              "      <td>32.900002</td>\n",
              "      <td>35.080002</td>\n",
              "      <td>35.080002</td>\n",
              "      <td>22817800</td>\n",
              "      <td>NaN</td>\n",
              "    </tr>\n",
              "    <tr>\n",
              "      <th>1</th>\n",
              "      <td>2021-01-05</td>\n",
              "      <td>34.490002</td>\n",
              "      <td>39.540001</td>\n",
              "      <td>34.490002</td>\n",
              "      <td>39.410000</td>\n",
              "      <td>39.410000</td>\n",
              "      <td>19229000</td>\n",
              "      <td>0.123432</td>\n",
              "    </tr>\n",
              "    <tr>\n",
              "      <th>2</th>\n",
              "      <td>2021-01-06</td>\n",
              "      <td>41.419998</td>\n",
              "      <td>44.000000</td>\n",
              "      <td>39.750000</td>\n",
              "      <td>43.930000</td>\n",
              "      <td>43.930000</td>\n",
              "      <td>40502900</td>\n",
              "      <td>0.114692</td>\n",
              "    </tr>\n",
              "    <tr>\n",
              "      <th>3</th>\n",
              "      <td>2021-01-07</td>\n",
              "      <td>47.700001</td>\n",
              "      <td>48.410000</td>\n",
              "      <td>40.810001</td>\n",
              "      <td>44.970001</td>\n",
              "      <td>44.970001</td>\n",
              "      <td>32619300</td>\n",
              "      <td>0.023674</td>\n",
              "    </tr>\n",
              "    <tr>\n",
              "      <th>4</th>\n",
              "      <td>2021-01-08</td>\n",
              "      <td>47.849998</td>\n",
              "      <td>48.650002</td>\n",
              "      <td>44.360001</td>\n",
              "      <td>44.419998</td>\n",
              "      <td>44.419998</td>\n",
              "      <td>23125700</td>\n",
              "      <td>-0.012230</td>\n",
              "    </tr>\n",
              "    <tr>\n",
              "      <th>...</th>\n",
              "      <td>...</td>\n",
              "      <td>...</td>\n",
              "      <td>...</td>\n",
              "      <td>...</td>\n",
              "      <td>...</td>\n",
              "      <td>...</td>\n",
              "      <td>...</td>\n",
              "      <td>...</td>\n",
              "    </tr>\n",
              "    <tr>\n",
              "      <th>206</th>\n",
              "      <td>2021-10-27</td>\n",
              "      <td>46.669998</td>\n",
              "      <td>47.720001</td>\n",
              "      <td>46.169998</td>\n",
              "      <td>46.700001</td>\n",
              "      <td>46.700001</td>\n",
              "      <td>8355200</td>\n",
              "      <td>-0.055230</td>\n",
              "    </tr>\n",
              "    <tr>\n",
              "      <th>207</th>\n",
              "      <td>2021-10-28</td>\n",
              "      <td>48.700001</td>\n",
              "      <td>49.000000</td>\n",
              "      <td>46.320000</td>\n",
              "      <td>48.685001</td>\n",
              "      <td>48.685001</td>\n",
              "      <td>5163600</td>\n",
              "      <td>0.042505</td>\n",
              "    </tr>\n",
              "    <tr>\n",
              "      <th>208</th>\n",
              "      <td>2021-10-29</td>\n",
              "      <td>48.560001</td>\n",
              "      <td>50.000000</td>\n",
              "      <td>48.230000</td>\n",
              "      <td>49.689999</td>\n",
              "      <td>49.689999</td>\n",
              "      <td>4692100</td>\n",
              "      <td>0.020643</td>\n",
              "    </tr>\n",
              "    <tr>\n",
              "      <th>209</th>\n",
              "      <td>2021-11-01</td>\n",
              "      <td>49.279999</td>\n",
              "      <td>49.540001</td>\n",
              "      <td>48.590000</td>\n",
              "      <td>49.240002</td>\n",
              "      <td>49.240002</td>\n",
              "      <td>4111100</td>\n",
              "      <td>-0.009056</td>\n",
              "    </tr>\n",
              "    <tr>\n",
              "      <th>210</th>\n",
              "      <td>2021-11-02</td>\n",
              "      <td>50.630001</td>\n",
              "      <td>51.000000</td>\n",
              "      <td>50.060001</td>\n",
              "      <td>50.459999</td>\n",
              "      <td>50.459999</td>\n",
              "      <td>7164200</td>\n",
              "      <td>0.024777</td>\n",
              "    </tr>\n",
              "  </tbody>\n",
              "</table>\n",
              "<p>211 rows × 8 columns</p>\n",
              "</div>"
            ],
            "text/plain": [
              "           Date       Open       High        Low      Close  Adj Close  \\\n",
              "0    2021-01-04  34.090000  36.599998  32.900002  35.080002  35.080002   \n",
              "1    2021-01-05  34.490002  39.540001  34.490002  39.410000  39.410000   \n",
              "2    2021-01-06  41.419998  44.000000  39.750000  43.930000  43.930000   \n",
              "3    2021-01-07  47.700001  48.410000  40.810001  44.970001  44.970001   \n",
              "4    2021-01-08  47.849998  48.650002  44.360001  44.419998  44.419998   \n",
              "..          ...        ...        ...        ...        ...        ...   \n",
              "206  2021-10-27  46.669998  47.720001  46.169998  46.700001  46.700001   \n",
              "207  2021-10-28  48.700001  49.000000  46.320000  48.685001  48.685001   \n",
              "208  2021-10-29  48.560001  50.000000  48.230000  49.689999  49.689999   \n",
              "209  2021-11-01  49.279999  49.540001  48.590000  49.240002  49.240002   \n",
              "210  2021-11-02  50.630001  51.000000  50.060001  50.459999  50.459999   \n",
              "\n",
              "       Volume  Daily_Return  \n",
              "0    22817800           NaN  \n",
              "1    19229000      0.123432  \n",
              "2    40502900      0.114692  \n",
              "3    32619300      0.023674  \n",
              "4    23125700     -0.012230  \n",
              "..        ...           ...  \n",
              "206   8355200     -0.055230  \n",
              "207   5163600      0.042505  \n",
              "208   4692100      0.020643  \n",
              "209   4111100     -0.009056  \n",
              "210   7164200      0.024777  \n",
              "\n",
              "[211 rows x 8 columns]"
            ]
          },
          "execution_count": 16,
          "metadata": {},
          "output_type": "execute_result"
        }
      ],
      "source": [
        "GBTC = get_df_from_csv(\"GBTC\")\n",
        "\n",
        "add_daily_return_to_df(GBTC,\"GBTC\")\n",
        "\n",
        "GBTC"
      ]
    }
  ],
  "metadata": {
    "colab": {
      "collapsed_sections": [],
      "name": "dbanas-tut01.ipynb",
      "provenance": []
    },
    "interpreter": {
      "hash": "45e2c4e5dfc159d342ce7dba2130c7b213f9862d90bf377a920f00941f0ce223"
    },
    "kernelspec": {
      "display_name": "Python 3.8.1 64-bit ('venv': venv)",
      "name": "python3"
    },
    "language_info": {
      "codemirror_mode": {
        "name": "ipython",
        "version": 3
      },
      "file_extension": ".py",
      "mimetype": "text/x-python",
      "name": "python",
      "nbconvert_exporter": "python",
      "pygments_lexer": "ipython3",
      "version": "3.8.1"
    }
  },
  "nbformat": 4,
  "nbformat_minor": 0
}
